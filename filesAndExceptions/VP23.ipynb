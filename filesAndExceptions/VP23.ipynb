{
 "cells": [
  {
   "cell_type": "code",
   "execution_count": 4,
   "metadata": {},
   "outputs": [
    {
     "name": "stdout",
     "output_type": "stream",
     "text": [
      "32\n"
     ]
    }
   ],
   "source": [
    "def power(number):\n",
    "    if number > 0:\n",
    "        return 2*(power(number-1))\n",
    "    else:\n",
    "        return 1\n",
    "    \n",
    "number = 5\n",
    "print(power(number))"
   ]
  },
  {
   "cell_type": "code",
   "execution_count": null,
   "metadata": {},
   "outputs": [],
   "source": [
    "def summ(number):\n",
    "    if number > 1:\n",
    "        return number + summ(number-1)\n",
    "    else:\n",
    "        return 1\n",
    "    \n",
    "summ(10)"
   ]
  },
  {
   "cell_type": "code",
   "execution_count": 7,
   "metadata": {},
   "outputs": [
    {
     "data": {
      "text/plain": [
       "24"
      ]
     },
     "execution_count": 7,
     "metadata": {},
     "output_type": "execute_result"
    }
   ],
   "source": [
    "def m(r):\n",
    "    return r*m(r-1) if r > 2 else r\n",
    "\n",
    "m(4)"
   ]
  }
 ],
 "metadata": {
  "kernelspec": {
   "display_name": "Python 3",
   "language": "python",
   "name": "python3"
  },
  "language_info": {
   "codemirror_mode": {
    "name": "ipython",
    "version": 3
   },
   "file_extension": ".py",
   "mimetype": "text/x-python",
   "name": "python",
   "nbconvert_exporter": "python",
   "pygments_lexer": "ipython3",
   "version": "3.10.0 (tags/v3.10.0:b494f59, Oct  4 2021, 19:00:18) [MSC v.1929 64 bit (AMD64)]"
  },
  "orig_nbformat": 4,
  "vscode": {
   "interpreter": {
    "hash": "b48f70ab81d2f78f348a8478a884d66c9d9246104aaf7b2223d188fa15c2b017"
   }
  }
 },
 "nbformat": 4,
 "nbformat_minor": 2
}
