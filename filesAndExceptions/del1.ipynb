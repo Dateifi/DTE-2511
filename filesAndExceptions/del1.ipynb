{
 "cells": [
  {
   "cell_type": "markdown",
   "metadata": {},
   "source": [
    "# Exception handeling\n",
    "\n",
    "Exceptions handler om å håndere feilsituasjoner på en strukturert måte i en kode. Det kan kastes exceptions og fanges exceptions. Når noe \"eksepsjonelt\" skjer, så kan man i egen kode avbryte eksekveringen i det scopet man er i, og hoppe ut helt til man kommer til et catch scope. "
   ]
  },
  {
   "cell_type": "code",
   "execution_count": 43,
   "metadata": {},
   "outputs": [
    {
     "name": "stdout",
     "output_type": "stream",
     "text": [
      "Hello!\n",
      "<\n",
      "Caught exception that I don't know anything about\n",
      "Yes!\n"
     ]
    }
   ],
   "source": [
    "import urllib.request\n",
    "from urllib.error import *\n",
    "\n",
    "try :\n",
    "    print(\"Hello!\")\n",
    "    url = \"https://uit.no\"\n",
    "    # url = input(\"Enter a URL: \")\n",
    "    input = urllib.request.urlopen(url)\n",
    "    text = input.read().decode()\n",
    "    for line in text :\n",
    "        print(line)\n",
    "        f = float(line)\n",
    "\n",
    "    \n",
    "\n",
    "except URLError as ex:\n",
    "    print(\"Caught exception: \" + ex.reason)\n",
    "# except ValueError as ex:\n",
    "    # print(\"Caught value conversion exception: \" + str(ex.args[0]))  # OBS: Vær forsiktig med å ikke lage nye exceptions i exception-handler ;-)\n",
    "# except BaseException as ex:\n",
    "    # print(\"Caught an exception: \" + str(ex.args[0]))\n",
    "except:\n",
    "    print(\"Caught exception that I don't know anything about\")\n",
    "else:\n",
    "    print(\"No exception happened :-)\")\n",
    "finally:\n",
    "    print(\"Yes!\")\n",
    "    input.close()\n",
    "\n",
    "# raise RuntimeException(\"slafja\")\n",
    "# vise hvordan man skriver en exception klasse\n",
    "\n",
    "\n"
   ]
  }
 ],
 "metadata": {
  "interpreter": {
   "hash": "a290f780ee47b7dfaf60850b6ed37e591df7deb7c526863d2cdd3e0731d70467"
  },
  "kernelspec": {
   "display_name": "Python 3.9.7 64-bit ('base': conda)",
   "language": "python",
   "name": "python3"
  },
  "language_info": {
   "codemirror_mode": {
    "name": "ipython",
    "version": 3
   },
   "file_extension": ".py",
   "mimetype": "text/x-python",
   "name": "python",
   "nbconvert_exporter": "python",
   "pygments_lexer": "ipython3",
   "version": "3.9.7"
  },
  "orig_nbformat": 4
 },
 "nbformat": 4,
 "nbformat_minor": 2
}
