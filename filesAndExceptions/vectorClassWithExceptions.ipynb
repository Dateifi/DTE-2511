{
 "cells": [
  {
   "cell_type": "markdown",
   "metadata": {},
   "source": [
    "# Vector klasse instrumentert med exceptions\n"
   ]
  },
  {
   "cell_type": "code",
   "execution_count": 8,
   "metadata": {},
   "outputs": [
    {
     "ename": "TypeError",
     "evalue": "descriptor '__init__' of 'super' object needs an argument",
     "output_type": "error",
     "traceback": [
      "\u001b[1;31m---------------------------------------------------------------------------\u001b[0m",
      "\u001b[1;31mTypeError\u001b[0m                                 Traceback (most recent call last)",
      "\u001b[1;32m~\\AppData\\Local\\Temp/ipykernel_20264/1193130597.py\u001b[0m in \u001b[0;36m<module>\u001b[1;34m\u001b[0m\n\u001b[0;32m     70\u001b[0m \u001b[1;33m\u001b[0m\u001b[0m\n\u001b[0;32m     71\u001b[0m \u001b[0mw\u001b[0m \u001b[1;33m=\u001b[0m \u001b[0mu\u001b[0m \u001b[1;33m+\u001b[0m \u001b[0mv\u001b[0m\u001b[1;33m\u001b[0m\u001b[1;33m\u001b[0m\u001b[0m\n\u001b[1;32m---> 72\u001b[1;33m \u001b[0ms\u001b[0m \u001b[1;33m=\u001b[0m \u001b[0mu\u001b[0m\u001b[1;33m*\u001b[0m\u001b[1;36m2\u001b[0m\u001b[1;33m\u001b[0m\u001b[1;33m\u001b[0m\u001b[0m\n\u001b[0m\u001b[0;32m     73\u001b[0m \u001b[0mw\u001b[0m\u001b[1;33m.\u001b[0m\u001b[0mfilename\u001b[0m \u001b[1;33m=\u001b[0m \u001b[1;34m\"w.txt\"\u001b[0m\u001b[1;33m\u001b[0m\u001b[1;33m\u001b[0m\u001b[0m\n\u001b[0;32m     74\u001b[0m \u001b[0mw\u001b[0m\u001b[1;33m.\u001b[0m\u001b[0msave\u001b[0m\u001b[1;33m(\u001b[0m\u001b[1;33m)\u001b[0m\u001b[1;33m\u001b[0m\u001b[1;33m\u001b[0m\u001b[0m\n",
      "\u001b[1;32m~\\AppData\\Local\\Temp/ipykernel_20264/1193130597.py\u001b[0m in \u001b[0;36m__mul__\u001b[1;34m(self, other)\u001b[0m\n\u001b[0;32m     49\u001b[0m     \u001b[1;32mdef\u001b[0m \u001b[0m__mul__\u001b[0m\u001b[1;33m(\u001b[0m\u001b[0mself\u001b[0m\u001b[1;33m,\u001b[0m \u001b[0mother\u001b[0m\u001b[1;33m)\u001b[0m \u001b[1;33m:\u001b[0m\u001b[1;33m\u001b[0m\u001b[1;33m\u001b[0m\u001b[0m\n\u001b[0;32m     50\u001b[0m         \u001b[1;32mif\u001b[0m \u001b[1;32mnot\u001b[0m \u001b[0misinstance\u001b[0m\u001b[1;33m(\u001b[0m\u001b[0mother\u001b[0m\u001b[1;33m,\u001b[0m \u001b[0mVector\u001b[0m\u001b[1;33m)\u001b[0m \u001b[1;33m:\u001b[0m\u001b[1;33m\u001b[0m\u001b[1;33m\u001b[0m\u001b[0m\n\u001b[1;32m---> 51\u001b[1;33m             \u001b[1;32mraise\u001b[0m \u001b[0mVectorException\u001b[0m\u001b[1;33m(\u001b[0m\u001b[1;34m\"To use the scalar multiplication, please supply a vector as second factor\"\u001b[0m\u001b[1;33m)\u001b[0m\u001b[1;33m\u001b[0m\u001b[1;33m\u001b[0m\u001b[0m\n\u001b[0m\u001b[0;32m     52\u001b[0m \u001b[1;33m\u001b[0m\u001b[0m\n\u001b[0;32m     53\u001b[0m         \u001b[1;32mreturn\u001b[0m \u001b[0mself\u001b[0m\u001b[1;33m.\u001b[0m\u001b[0m__x\u001b[0m\u001b[1;33m*\u001b[0m\u001b[0mother\u001b[0m\u001b[1;33m.\u001b[0m\u001b[0m__x\u001b[0m \u001b[1;33m+\u001b[0m \u001b[0mself\u001b[0m\u001b[1;33m.\u001b[0m\u001b[0m__y\u001b[0m\u001b[1;33m*\u001b[0m\u001b[0mother\u001b[0m\u001b[1;33m.\u001b[0m\u001b[0m__y\u001b[0m\u001b[1;33m\u001b[0m\u001b[1;33m\u001b[0m\u001b[0m\n",
      "\u001b[1;32m~\\AppData\\Local\\Temp/ipykernel_20264/1193130597.py\u001b[0m in \u001b[0;36m__init__\u001b[1;34m(self, message)\u001b[0m\n\u001b[0;32m      3\u001b[0m \u001b[1;32mclass\u001b[0m \u001b[0mVectorException\u001b[0m\u001b[1;33m(\u001b[0m\u001b[0mException\u001b[0m\u001b[1;33m)\u001b[0m \u001b[1;33m:\u001b[0m\u001b[1;33m\u001b[0m\u001b[1;33m\u001b[0m\u001b[0m\n\u001b[0;32m      4\u001b[0m     \u001b[1;32mdef\u001b[0m \u001b[0m__init__\u001b[0m\u001b[1;33m(\u001b[0m\u001b[0mself\u001b[0m\u001b[1;33m,\u001b[0m \u001b[0mmessage\u001b[0m\u001b[1;33m)\u001b[0m \u001b[1;33m:\u001b[0m\u001b[1;33m\u001b[0m\u001b[1;33m\u001b[0m\u001b[0m\n\u001b[1;32m----> 5\u001b[1;33m         \u001b[0msuper\u001b[0m\u001b[1;33m.\u001b[0m\u001b[0m__init__\u001b[0m\u001b[1;33m(\u001b[0m\u001b[1;33m)\u001b[0m\u001b[1;33m\u001b[0m\u001b[1;33m\u001b[0m\u001b[0m\n\u001b[0m\u001b[0;32m      6\u001b[0m         \u001b[0mself\u001b[0m\u001b[1;33m.\u001b[0m\u001b[0mmessage\u001b[0m \u001b[1;33m=\u001b[0m \u001b[0mmessage\u001b[0m\u001b[1;33m\u001b[0m\u001b[1;33m\u001b[0m\u001b[0m\n\u001b[0;32m      7\u001b[0m \u001b[1;33m\u001b[0m\u001b[0m\n",
      "\u001b[1;31mTypeError\u001b[0m: descriptor '__init__' of 'super' object needs an argument"
     ]
    }
   ],
   "source": [
    "from math import sin, cos, pi\n",
    "\n",
    "class VectorException(Exception) :\n",
    "    def __init__(self, message) :\n",
    "        super.__init__()\n",
    "        self.message = message\n",
    "\n",
    "class Vector : \n",
    "\n",
    "    # Contructor\n",
    "    def __init__(self, x=0, y=0, polar=False) : # if given in polar coordinates, interpret x as length, and y as angle\n",
    "        if not isinstance(x,(float,int)) :\n",
    "            raise VectorException(\"You tried to create a vector with non-numerical coordinates\")\n",
    "        if not isinstance(y,(float,int)) :\n",
    "            raise VectorException(\"You tried to create a vector with non-numerical coordinates\")\n",
    "\n",
    "        if ( polar ) :\n",
    "            self.__x = x*cos(y)\n",
    "            self.__y = x*sin(y)\n",
    "        else :\n",
    "            self.__x = x\n",
    "            self.__y = y\n",
    "        self.filename = str(id(self)) + \".txt\"\n",
    "\n",
    "    @property\n",
    "    def x(self) :\n",
    "        return self.__x\n",
    "\n",
    "    @property\n",
    "    def y(self) :\n",
    "        return self.__y\n",
    "\n",
    "    @x.setter\n",
    "    def x(self, x) :\n",
    "        self.__x = x\n",
    "\n",
    "    @y.setter\n",
    "    def y(self, y) :\n",
    "        self.__y = y\n",
    "\n",
    "    def __str__(self) :\n",
    "        return f\"Vector: ({self.__x}, {self.__y})\"\n",
    "\n",
    "    def __add__(self, other) :\n",
    "        if not isinstance(other, Vector) :\n",
    "            raise VectorException(\"You cannot add something to a vector that isn't a vector itself\")\n",
    "        return Vector(self.__x + other.__x, self.__y + other.__y)\n",
    "\n",
    "    def __mul__(self, other) :\n",
    "        if not isinstance(other, Vector) :\n",
    "            raise VectorException(\"To use the scalar multiplication, please supply a vector as second factor\")\n",
    "\n",
    "        return self.__x*other.__x + self.__y*other.__y\n",
    "\n",
    "    def save(self) :\n",
    "        with open(self.filename, \"w\") as file : \n",
    "            file.write(f\"{self.__x}, {self.__y}\")\n",
    "            # file.write(self)\n",
    "    \n",
    "    def load(self) :\n",
    "        with open(self.filename, \"r\") as file :\n",
    "            coords = file.readline()  # Format is \"x, y\"\n",
    "\n",
    "        xAndy = coords.split(\",\")\n",
    "        self.__x = float(xAndy[0])\n",
    "        self.__y = float(xAndy[1])\n",
    "\n",
    "try :\n",
    "    u = Vector(2,1)\n",
    "    v = Vector(1,pi, True)\n",
    "\n",
    "    w = u + v\n",
    "    s = u*2\n",
    "    w.filename = \"w.txt\"\n",
    "    w.save()\n",
    "\n",
    "    w.load()\n",
    "except VectorException as ex:\n",
    "    print(\"Caught Vector related exception: \" + ex.message)\n",
    "except BaseException as ex:\n",
    "    print(\"Caught other exceptions, some info supplied: \" + ex.args[0])\n",
    "\n"
   ]
  }
 ],
 "metadata": {
  "interpreter": {
   "hash": "a290f780ee47b7dfaf60850b6ed37e591df7deb7c526863d2cdd3e0731d70467"
  },
  "kernelspec": {
   "display_name": "Python 3.9.7 64-bit ('base': conda)",
   "language": "python",
   "name": "python3"
  },
  "language_info": {
   "codemirror_mode": {
    "name": "ipython",
    "version": 3
   },
   "file_extension": ".py",
   "mimetype": "text/x-python",
   "name": "python",
   "nbconvert_exporter": "python",
   "pygments_lexer": "ipython3",
   "version": "3.9.7"
  },
  "orig_nbformat": 4
 },
 "nbformat": 4,
 "nbformat_minor": 2
}
