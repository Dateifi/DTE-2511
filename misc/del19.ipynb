{
 "cells": [
  {
   "cell_type": "code",
   "execution_count": 16,
   "metadata": {},
   "outputs": [
    {
     "name": "stdout",
     "output_type": "stream",
     "text": [
      "-0b1001\n"
     ]
    },
    {
     "data": {
      "text/plain": [
       "17"
      ]
     },
     "execution_count": 16,
     "metadata": {},
     "output_type": "execute_result"
    }
   ],
   "source": [
    "def get_bit(value, bit_index) :\n",
    "    bit_to_get = 1 << bit_index\n",
    "    print(bin(bit_to_get))\n",
    "    return bit_to_get & value\n",
    "\n",
    "def get_normalized_bit(value, bit_index) :\n",
    "    value >> bit_index  # Shift the bit in the position bit_index downwards to the zeroth position\n",
    "    return value & 1  # This will return 0 or 1\n",
    "\n",
    "\n",
    "def set_bit(value, bit_index) :\n",
    "    bit_to_set = 1 << bit_index\n",
    "    print(bin(value | bit_to_set)) \n",
    "    return value | bit_to_set\n",
    "\n",
    "def unset_bit(value, bit_index) :\n",
    "    bit_to_set = ~(1 << bit_index)\n",
    "    print(bin(bit_to_set))\n",
    "    return value & bit_to_set\n",
    "    \n",
    "\n",
    "unset_bit(0b010001, 3)"
   ]
  }
 ],
 "metadata": {
  "interpreter": {
   "hash": "a290f780ee47b7dfaf60850b6ed37e591df7deb7c526863d2cdd3e0731d70467"
  },
  "kernelspec": {
   "display_name": "Python 3.9.7 ('base')",
   "language": "python",
   "name": "python3"
  },
  "language_info": {
   "codemirror_mode": {
    "name": "ipython",
    "version": 3
   },
   "file_extension": ".py",
   "mimetype": "text/x-python",
   "name": "python",
   "nbconvert_exporter": "python",
   "pygments_lexer": "ipython3",
   "version": "3.9.7"
  },
  "orig_nbformat": 4
 },
 "nbformat": 4,
 "nbformat_minor": 2
}
