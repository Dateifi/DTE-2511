{
 "cells": [
  {
   "cell_type": "markdown",
   "metadata": {},
   "source": [
    "# Lister\n",
    "\n",
    "En liste er en datastruktur for å lagre objekter i en sekvens, og vi har til nå sett på den innebygde container-typen `list` i python. \n",
    "Vi skal nå lage vår egen versjon av en liste, der et element i listen er en node som linker til neste node i sekvensen, fra \"Head\" til \"Tail\". Operasjoner som skal støttes er\n",
    "* Legge inn nytt element\n",
    "* Ta vekk element\n",
    "* Hente ut verdien i et element vha. indeks\n",
    "* Finne størrelsen til lista, inkludert om den er tom\n",
    "* Finne ut om et element er i lista\n",
    "\n",
    "Vi implementerer en node på følgende måte:"
   ]
  },
  {
   "cell_type": "code",
   "execution_count": null,
   "metadata": {},
   "outputs": [],
   "source": [
    "class Node :\n",
    "    def __init__(self, e) :\n",
    "        self.elemenet = e\n",
    "        self.__next = None\n",
    "\n",
    "    @property\n",
    "    def next(self) :\n",
    "        return self.__next\n"
   ]
  },
  {
   "cell_type": "markdown",
   "metadata": {},
   "source": [
    "En liste av disse nodene vil da enkelt og greit henge sammen på denne måten:\n",
    "\n",
    "![](../resources/img/LinkedList.png)"
   ]
  },
  {
   "cell_type": "code",
   "execution_count": null,
   "metadata": {},
   "outputs": [],
   "source": [
    "class LinkedList :\n",
    "    def __init__(self) :   # Empty list\n",
    "        __head = None\n",
    "        __tail = None\n",
    "\n",
    "    def addLast(self, element) :\n",
    "        node = Node(element)\n",
    "        if (self.__head == None) :\n",
    "            self.__head = self.__tail = node\n",
    "        else :\n",
    "            current = self.__tail\n",
    "            current.next = node\n",
    "            self.__tail = node\n"
   ]
  },
  {
   "cell_type": "markdown",
   "metadata": {},
   "source": [
    "En liten merknad når det gjelder allokering: Kanskje tror man at en liste er representert av en kontinuerlig sekvens i minnet på datamaskinen, men dette er ikke tilfellet i python:\n",
    "\n",
    "![](../resources/img/List_memory.png).\n"
   ]
  }
 ],
 "metadata": {
  "language_info": {
   "name": "python"
  },
  "orig_nbformat": 4
 },
 "nbformat": 4,
 "nbformat_minor": 2
}
