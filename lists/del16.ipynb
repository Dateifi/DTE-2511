{
 "cells": [
  {
   "cell_type": "markdown",
   "metadata": {},
   "source": [
    "# Forskjellige anvendelser av lister\n",
    "\n",
    "Vi ser først på hvordan en Heap kan anvendes til å lage en prioritets-kø (Heap klassen fra del14 er tatt med igjen for info/import)."
   ]
  },
  {
   "cell_type": "code",
   "execution_count": 32,
   "metadata": {},
   "outputs": [],
   "source": [
    "class Heap :\n",
    "\n",
    "    def __init__(self) :\n",
    "        self.__liste = []\n",
    "\n",
    "    def add(self, element) :\n",
    "        self.__liste.append(element)\n",
    "        current = len(self.__liste) - 1\n",
    "        parent = (current-1)//2\n",
    "        if (len(self.__liste) == 1): return\n",
    "        while self.__liste[current] > self.__liste[parent] :\n",
    "            self.__liste[current], self.__liste[parent] = self.__liste[parent], self.__liste[current] # Swap\n",
    "            current = parent\n",
    "            parent = (current-1)//2\n",
    "            if parent < 0 : break\n",
    "\n",
    "    def remove_root(self) :\n",
    "        if (len(self.__liste) == 0):  return None  # Nothing to remove\n",
    "\n",
    "        removedItem = self.__liste[0]  # Remove the last in the list\n",
    "        lastItem = self.__liste.pop()  # Last item will be the new root\n",
    "        if len(self.__liste) == 0 : return lastItem   # After popping, the list became empty, so we just return that one.\n",
    "        self.__liste[0] = lastItem\n",
    "        current = 0\n",
    "\n",
    "        while (current < len(self.__liste)) : \n",
    "            leftChild = 2*current + 1\n",
    "            rightChild = 2*current + 2\n",
    "            if leftChild >= len(self.__liste) : # There is no children\n",
    "                break  # We are done\n",
    "            \n",
    "            leftWillSwap = False\n",
    "            willSwap = False\n",
    "            if rightChild == len(self.__liste) : # There is only the left child, since the rightChild is out of bounds\n",
    "                if self.__liste[current] < self.__liste[leftChild] :\n",
    "                    leftWillSwap = True\n",
    "                    willSwap = True\n",
    "            else :\n",
    "                if self.__liste[leftChild] > self.__liste[current] :\n",
    "                    leftWillSwap = True\n",
    "                    willSwap = True\n",
    "                    if self.__liste[rightChild] > self.__liste[leftChild] :\n",
    "                        leftWillSwap = False\n",
    "            \n",
    "            if willSwap :\n",
    "                index = leftChild if leftWillSwap else rightChild\n",
    "                self.__liste[current], self.__liste[index] = self.__liste[index], self.__liste[current] # Swap\n",
    "                current = index\n",
    "            else :\n",
    "                break\n",
    "\n",
    "        return removedItem\n",
    "\n",
    "    def getSize(self) :\n",
    "        return len(self.__liste)\n",
    "\n",
    "    def print(self) :\n",
    "        print(self.__liste)\n"
   ]
  },
  {
   "cell_type": "code",
   "execution_count": 34,
   "metadata": {},
   "outputs": [
    {
     "name": "stdout",
     "output_type": "stream",
     "text": [
      "[7, 'Abbi'] [5, 'Bakary'] [2, 'Ashley'] [1, 'Emilia'] "
     ]
    }
   ],
   "source": [
    "class Stack :\n",
    "    def __init__(self) :\n",
    "        self.__liste = []\n",
    "\n",
    "    def push(self, element) :\n",
    "        self.__liste.append(element)\n",
    "\n",
    "    def pop(self) :\n",
    "        return self.__liste.pop()\n",
    "\n",
    "    def peek(self) :\n",
    "        return self.__liste[-1]\n",
    "\n",
    "    def size(self) :\n",
    "        return len(self.__liste)\n",
    "\n",
    "class PriorityQueue :\n",
    "    def __init__(self) :\n",
    "        self.__heap = Heap()\n",
    "\n",
    "    def enqueue(self, element) :\n",
    "        self.__heap.add(element)\n",
    "\n",
    "    def dequeue(self) :\n",
    "        if self.__heap.getSize() == 0 :\n",
    "            return None\n",
    "        return self.__heap.remove_root()\n",
    "\n",
    "    def get_size(self) :\n",
    "        return self.__heap.getSize()\n",
    "\n",
    "# Eksempel med prioritert rekkefølge på pasienter (ja, tallet først i hvert liste-item er det som faktisk blir brukt av Heap for sortering)\n",
    "\n",
    "patient1 = [2, \"Ashley\"]\n",
    "patient2 = [1, \"Emilia\"]\n",
    "patient3 = [5, \"Bakary\"]\n",
    "patient4 = [7, \"Abbi\"]\n",
    "\n",
    "priorityQueue = PriorityQueue() # Create a PriorityQueue\n",
    "priorityQueue.enqueue(patient1)\n",
    "priorityQueue.enqueue(patient2)\n",
    "priorityQueue.enqueue(patient3)\n",
    "priorityQueue.enqueue(patient4)\n",
    "    \n",
    "while priorityQueue.get_size() > 0:\n",
    "    print(priorityQueue.dequeue(), end = \" \")"
   ]
  },
  {
   "cell_type": "markdown",
   "metadata": {},
   "source": [
    "Under har vi en helt enkel implementasjon av post-fix evaluering av aritmetiske uttrykk. For å gjøre det enkelt har vi bare gjort det slik at for å stoppe eksekveringen, så er det bare å gi en feil input-streng."
   ]
  },
  {
   "cell_type": "code",
   "execution_count": 35,
   "metadata": {},
   "outputs": [
    {
     "name": "stdout",
     "output_type": "stream",
     "text": [
      "6\n",
      "3.0\n"
     ]
    },
    {
     "ename": "KeyboardInterrupt",
     "evalue": "Interrupted by user",
     "output_type": "error",
     "traceback": [
      "\u001b[1;31m---------------------------------------------------------------------------\u001b[0m",
      "\u001b[1;31mKeyboardInterrupt\u001b[0m                         Traceback (most recent call last)",
      "\u001b[1;32m~\\AppData\\Local\\Temp/ipykernel_29272/2229895870.py\u001b[0m in \u001b[0;36m<module>\u001b[1;34m\u001b[0m\n\u001b[0;32m      2\u001b[0m \u001b[1;33m\u001b[0m\u001b[0m\n\u001b[0;32m      3\u001b[0m \u001b[1;32mwhile\u001b[0m \u001b[1;32mTrue\u001b[0m \u001b[1;33m:\u001b[0m\u001b[1;33m\u001b[0m\u001b[1;33m\u001b[0m\u001b[0m\n\u001b[1;32m----> 4\u001b[1;33m     \u001b[0mnum\u001b[0m \u001b[1;33m=\u001b[0m \u001b[0minput\u001b[0m\u001b[1;33m(\u001b[0m\u001b[1;34m\"Operand please: [1-9]\"\u001b[0m\u001b[1;33m)\u001b[0m\u001b[1;33m\u001b[0m\u001b[1;33m\u001b[0m\u001b[0m\n\u001b[0m\u001b[0;32m      5\u001b[0m     \u001b[1;32mtry\u001b[0m \u001b[1;33m:\u001b[0m\u001b[1;33m\u001b[0m\u001b[1;33m\u001b[0m\u001b[0m\n\u001b[0;32m      6\u001b[0m         \u001b[0ma\u001b[0m \u001b[1;33m=\u001b[0m \u001b[0mint\u001b[0m\u001b[1;33m(\u001b[0m\u001b[0mnum\u001b[0m\u001b[1;33m)\u001b[0m\u001b[1;33m\u001b[0m\u001b[1;33m\u001b[0m\u001b[0m\n",
      "\u001b[1;32m~\\Anaconda3\\lib\\site-packages\\ipykernel\\kernelbase.py\u001b[0m in \u001b[0;36mraw_input\u001b[1;34m(self, prompt)\u001b[0m\n\u001b[0;32m   1004\u001b[0m                 \u001b[1;34m\"raw_input was called, but this frontend does not support input requests.\"\u001b[0m\u001b[1;33m\u001b[0m\u001b[1;33m\u001b[0m\u001b[0m\n\u001b[0;32m   1005\u001b[0m             )\n\u001b[1;32m-> 1006\u001b[1;33m         return self._input_request(\n\u001b[0m\u001b[0;32m   1007\u001b[0m             \u001b[0mstr\u001b[0m\u001b[1;33m(\u001b[0m\u001b[0mprompt\u001b[0m\u001b[1;33m)\u001b[0m\u001b[1;33m,\u001b[0m\u001b[1;33m\u001b[0m\u001b[1;33m\u001b[0m\u001b[0m\n\u001b[0;32m   1008\u001b[0m             \u001b[0mself\u001b[0m\u001b[1;33m.\u001b[0m\u001b[0m_parent_ident\u001b[0m\u001b[1;33m[\u001b[0m\u001b[1;34m\"shell\"\u001b[0m\u001b[1;33m]\u001b[0m\u001b[1;33m,\u001b[0m\u001b[1;33m\u001b[0m\u001b[1;33m\u001b[0m\u001b[0m\n",
      "\u001b[1;32m~\\Anaconda3\\lib\\site-packages\\ipykernel\\kernelbase.py\u001b[0m in \u001b[0;36m_input_request\u001b[1;34m(self, prompt, ident, parent, password)\u001b[0m\n\u001b[0;32m   1049\u001b[0m             \u001b[1;32mexcept\u001b[0m \u001b[0mKeyboardInterrupt\u001b[0m\u001b[1;33m:\u001b[0m\u001b[1;33m\u001b[0m\u001b[1;33m\u001b[0m\u001b[0m\n\u001b[0;32m   1050\u001b[0m                 \u001b[1;31m# re-raise KeyboardInterrupt, to truncate traceback\u001b[0m\u001b[1;33m\u001b[0m\u001b[1;33m\u001b[0m\u001b[0m\n\u001b[1;32m-> 1051\u001b[1;33m                 \u001b[1;32mraise\u001b[0m \u001b[0mKeyboardInterrupt\u001b[0m\u001b[1;33m(\u001b[0m\u001b[1;34m\"Interrupted by user\"\u001b[0m\u001b[1;33m)\u001b[0m \u001b[1;32mfrom\u001b[0m \u001b[1;32mNone\u001b[0m\u001b[1;33m\u001b[0m\u001b[1;33m\u001b[0m\u001b[0m\n\u001b[0m\u001b[0;32m   1052\u001b[0m             \u001b[1;32mexcept\u001b[0m \u001b[0mException\u001b[0m\u001b[1;33m:\u001b[0m\u001b[1;33m\u001b[0m\u001b[1;33m\u001b[0m\u001b[0m\n\u001b[0;32m   1053\u001b[0m                 \u001b[0mself\u001b[0m\u001b[1;33m.\u001b[0m\u001b[0mlog\u001b[0m\u001b[1;33m.\u001b[0m\u001b[0mwarning\u001b[0m\u001b[1;33m(\u001b[0m\u001b[1;34m\"Invalid Message:\"\u001b[0m\u001b[1;33m,\u001b[0m \u001b[0mexc_info\u001b[0m\u001b[1;33m=\u001b[0m\u001b[1;32mTrue\u001b[0m\u001b[1;33m)\u001b[0m\u001b[1;33m\u001b[0m\u001b[1;33m\u001b[0m\u001b[0m\n",
      "\u001b[1;31mKeyboardInterrupt\u001b[0m: Interrupted by user"
     ]
    }
   ],
   "source": [
    "stack = Stack()\n",
    "\n",
    "while True :\n",
    "    num = input(\"Operand please: [1-9]\")\n",
    "    try :\n",
    "        a = int(num)\n",
    "    except:\n",
    "        print(\"Not a valid input: \", num, \", should be a number\")\n",
    "        break\n",
    "\n",
    "    stack.push(a)\n",
    "    if stack.size() == 1 : # Should happen only in the beginning\n",
    "        num = int(input(\"Operand please: [1-9]\"))\n",
    "        try :\n",
    "            b = int(num)\n",
    "        except:\n",
    "            print(\"Not a valid input: \", num, \", should be a number\")\n",
    "            break\n",
    "        stack.push(b)\n",
    "    oper = input(\"Operator [+, -, * or /]: \")\n",
    "    if (oper == '+') :\n",
    "        result = stack.pop() + stack.pop()\n",
    "        print(result, flush=True)\n",
    "        stack.push(result)\n",
    "    elif (oper == '-') :\n",
    "        num2 = stack.pop()  # They will appear in reverse order compared to what order the operation is wanted\n",
    "        num1 = stack.pop()\n",
    "        result = num2 - num1\n",
    "        print(result, flush=True)\n",
    "        stack.push(result)\n",
    "    elif (oper == '*') :\n",
    "        result = stack.pop() * stack.pop()\n",
    "        print(result, flush=True)\n",
    "        stack.push(result)\n",
    "    elif (oper == '/') :\n",
    "        num2 = stack.pop()  # They will appear in reverse order compared to what order the operation is wanted\n",
    "        num1 = stack.pop()\n",
    "        result = num1 / num2\n",
    "        print(result, flush=True)\n",
    "        stack.push(result)\n",
    "    else :\n",
    "        print(\"Wrong operand\", oper)\n",
    "        break\n"
   ]
  }
 ],
 "metadata": {
  "interpreter": {
   "hash": "a290f780ee47b7dfaf60850b6ed37e591df7deb7c526863d2cdd3e0731d70467"
  },
  "kernelspec": {
   "display_name": "Python 3.9.7 ('base')",
   "language": "python",
   "name": "python3"
  },
  "language_info": {
   "codemirror_mode": {
    "name": "ipython",
    "version": 3
   },
   "file_extension": ".py",
   "mimetype": "text/x-python",
   "name": "python",
   "nbconvert_exporter": "python",
   "pygments_lexer": "ipython3",
   "version": "3.9.7"
  },
  "orig_nbformat": 4
 },
 "nbformat": 4,
 "nbformat_minor": 2
}
