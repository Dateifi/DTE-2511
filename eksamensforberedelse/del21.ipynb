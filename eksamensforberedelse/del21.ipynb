{
 "cells": [
  {
   "cell_type": "code",
   "execution_count": null,
   "metadata": {},
   "outputs": [],
   "source": [
    "# inherits, extend, override\n",
    "class Employee :\n",
    "\n",
    "    def __init__(self, name, age) :\n",
    "        self.name = name\n",
    "        self.age = age\n",
    "\n",
    "    def work(self) :\n",
    "        print(self.name,\"is working...\")\n",
    "\n",
    "class SwEngineer(Employee) :\n",
    "    \n",
    "    def __init__(self, name, age, level) :\n",
    "        super().__init__(name, age)\n",
    "        self.level = level\n",
    "\n",
    "    def debug(self) :\n",
    "        print(self.name, \"is debugging...\")\n",
    "\n",
    "    def work(self) :\n",
    "        print(self.name, \"is coding...\")\n",
    "\n",
    "class Designer(Employee) :\n",
    "    \n",
    "    def draw(self) :\n",
    "        print(self.name, \"is drawing...\")\n",
    "\n",
    "    def work(self) :\n",
    "        print(self.name, \"is designing...\")\n",
    "\n",
    "se = SwEngineer(\"Helge\", 25, \"junior\")\n",
    "# se.work()\n",
    "de = Designer(\"Anders\", 18)\n",
    "# de.work()\n",
    "\n",
    "# Polymorphism\n",
    "def motivate_employees(employees) :\n",
    "    for employee in employees :\n",
    "        employee.work()\n",
    "\n",
    "employees = [SwEngineer(\"Helge\", 25, \"junior\"), SwEngineer(\"Konrad\", 16, \"senior\"), Designer(\"Anders\", 18)]\n",
    "\n",
    "motivate_employees(employees)\n",
    "\n",
    "\n",
    "\n",
    "\n"
   ]
  }
 ],
 "metadata": {
  "interpreter": {
   "hash": "a290f780ee47b7dfaf60850b6ed37e591df7deb7c526863d2cdd3e0731d70467"
  },
  "kernelspec": {
   "display_name": "Python 3.9.7 ('base')",
   "language": "python",
   "name": "python3"
  },
  "language_info": {
   "codemirror_mode": {
    "name": "ipython",
    "version": 3
   },
   "file_extension": ".py",
   "mimetype": "text/x-python",
   "name": "python",
   "nbconvert_exporter": "python",
   "pygments_lexer": "ipython3",
   "version": "3.9.7"
  },
  "orig_nbformat": 4
 },
 "nbformat": 4,
 "nbformat_minor": 2
}
