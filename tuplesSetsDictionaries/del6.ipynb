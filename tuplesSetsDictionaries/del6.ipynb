{
 "cells": [
  {
   "cell_type": "markdown",
   "metadata": {},
   "source": [
    "# Tuples and sets\n",
    "Typen `tuple` ligner på `list` typen, men er uforanderlig. Dvs. har du først laget en `tuple`, så kan du ikke legge til/fjerne elementer. Innholdet i en tuple deklareres gjerne mellom to vanlige paranteser (), eventuelt uten noe som helst, bare ',' i mellom elementene."
   ]
  },
  {
   "cell_type": "code",
   "execution_count": 18,
   "metadata": {},
   "outputs": [
    {
     "name": "stdout",
     "output_type": "stream",
     "text": [
      "a l d k ø a d ø f a "
     ]
    }
   ],
   "source": [
    "t1 = tuple([1, 2, 3, 4])\n",
    "t5 = tuple(\"aldkøadøfa\")\n",
    "t2 = (\"Yalla\", \"jolle\", (1,2,3))\n",
    "t3 = (1,2,3), 'i', '123'\n",
    "# t1.append(3)  # Kan ikke legge til\n",
    "\n",
    "# Indexering og slicing fungerer akkurat som tidligere\n",
    "forsteElement = t3[0]\n",
    "resten = t3[1:] \n",
    "\n",
    "#Iterering over en tuple fungerer akkurat som før\n",
    "for bokstav in t5 :\n",
    "    print(bokstav, end=' ')\n"
   ]
  },
  {
   "cell_type": "markdown",
   "metadata": {},
   "source": [
    "Hvorfor bruker vi ikke bare lister da?\n",
    "1. Beskyttelse mot endring der vi ikke ønsker den muligheten\n",
    "2. Det går opp mot 1000 ganger raksere å operere på tupler enn lister.\n",
    "3. Veldig mye brukt type i python\n",
    "\n",
    "# Sets\n",
    "Sets er en tredje \"collection\" i python som kun inneholder unike elementer. Man kan f.eks ikke ha bokstaven s med mer enn en gang i et set. I tillegg har man metoder for å finne snitt/union/forskjell mellom to sett på samme måte som for matematiske mengder. Illustrasjon på tavla følger..."
   ]
  },
  {
   "cell_type": "code",
   "execution_count": null,
   "metadata": {},
   "outputs": [],
   "source": []
  }
 ],
 "metadata": {
  "interpreter": {
   "hash": "a290f780ee47b7dfaf60850b6ed37e591df7deb7c526863d2cdd3e0731d70467"
  },
  "kernelspec": {
   "display_name": "Python 3.9.7 64-bit ('base': conda)",
   "language": "python",
   "name": "python3"
  },
  "language_info": {
   "codemirror_mode": {
    "name": "ipython",
    "version": 3
   },
   "file_extension": ".py",
   "mimetype": "text/x-python",
   "name": "python",
   "nbconvert_exporter": "python",
   "pygments_lexer": "ipython3",
   "version": "3.9.7"
  },
  "orig_nbformat": 4
 },
 "nbformat": 4,
 "nbformat_minor": 2
}
