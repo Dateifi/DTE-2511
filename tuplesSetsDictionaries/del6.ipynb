{
 "cells": [
  {
   "cell_type": "markdown",
   "metadata": {},
   "source": [
    "# Tuples and sets\n",
    "Typen `tuple` ligner på `list` typen, men er uforanderlig. Dvs. har du først laget en `tuple`, så kan du ikke legge til/fjerne elementer. Innholdet i en tuple deklareres gjerne mellom to vanlige paranteser (), eventuelt uten noe som helst, bare ',' i mellom elementene."
   ]
  },
  {
   "cell_type": "code",
   "execution_count": 18,
   "metadata": {},
   "outputs": [
    {
     "name": "stdout",
     "output_type": "stream",
     "text": [
      "a l d k ø a d ø f a "
     ]
    }
   ],
   "source": [
    "t1 = tuple([1, 2, 3, 4])\n",
    "t5 = tuple(\"aldkøadøfa\")\n",
    "t2 = (\"Yalla\", \"jolle\", (1,2,3))\n",
    "t3 = (1,2,3), 'i', '123'\n",
    "# t1.append(3)  # Kan ikke legge til\n",
    "\n",
    "# Indexering og slicing fungerer akkurat som tidligere\n",
    "forsteElement = t3[0]\n",
    "resten = t3[1:] \n",
    "\n",
    "#Iterering over en tuple fungerer akkurat som før\n",
    "for bokstav in t5 :\n",
    "    print(bokstav, end=' ')\n"
   ]
  },
  {
   "cell_type": "markdown",
   "metadata": {},
   "source": [
    "Hvorfor bruker vi ikke bare lister da?\n",
    "1. Beskyttelse mot endring der vi ikke ønsker den muligheten\n",
    "2. Det går opp mot 1000 ganger raksere å operere på tupler enn lister.\n",
    "3. Veldig mye brukt type i python\n",
    "\n",
    "# Sets\n",
    "Sets er en tredje \"collection\" i python som kun inneholder unike elementer. Man kan f.eks ikke ha bokstaven s med mer enn en gang i et set. \n",
    "\n",
    "**NB: Elementene vil nødvendigvis ikke ligge i den rekkefølgen som de ble puttet inn i settet med når du aksesserer det...**"
   ]
  },
  {
   "cell_type": "code",
   "execution_count": 13,
   "metadata": {},
   "outputs": [
    {
     "data": {
      "text/plain": [
       "2"
      ]
     },
     "execution_count": 13,
     "metadata": {},
     "output_type": "execute_result"
    }
   ],
   "source": [
    "s1 = set('foo')  # Her initialiseres set med elementene 'f' 'o' og så blir den andre 'o' ignorert...\n",
    "s2 = set([1,2,3,4,1,2])  # Tallene 1 og 2 ignoreres ved siste \"occurance\"\n",
    "\n",
    "s1.add('bar') # Her betraktes 'bar' som et helt element, splittes ikke opp i karakterer\n",
    "# s2.remove(5) # Går ikke, siden 5 ikke er i settet\n",
    "s2.discard(5) # Går videre uten exception\n",
    "\n",
    "# s3 = {1, [1,2,3], ('foo', 'bar')}  # Hva skjedde her? Jo, et set kan ikke ha elementer som er \"mutable\". Den midterste listen er det...\n",
    "\n",
    "s3 = {1, ('foo', 'bar')} # En tuple er som kjent ikke mulig å endre (unmutable), så den lar seg inkludere.\n",
    "\n",
    "1 in s3  # Jupp\n",
    "'foo' in s3 # Nope, siden 'foo' må være pakket inn i en tuple\n",
    "# Vi kan også bruke metoder som len(), max(), min() og sum() på set slik som for lister og tupler\n",
    "\n",
    "max(s2)"
   ]
  },
  {
   "cell_type": "markdown",
   "metadata": {},
   "source": [
    "## Metoder for å se på forskjeller mellom set, og ekstrahere ut forskjellige subset basert på ulikhetene mellom disse\n",
    "\n",
    "Man metoder for å finne snitt/union/forskjell mellom to sett på samme måte som for matematiske mengder. Illustrasjon på tavla følger..\n",
    "\n",
    "La oss lage noen eksempler, og gå gjennom alle variantene\n",
    "\n",
    "## Union"
   ]
  },
  {
   "cell_type": "code",
   "execution_count": 17,
   "metadata": {},
   "outputs": [
    {
     "data": {
      "text/plain": [
       "{1, 2, 3, 4, 5}"
      ]
     },
     "execution_count": 17,
     "metadata": {},
     "output_type": "execute_result"
    }
   ],
   "source": [
    "s1 = {1,2,3}\n",
    "s2 = {3,4,5}\n",
    "s1 | s2 \n",
    "s1.union(s2)\n"
   ]
  },
  {
   "cell_type": "markdown",
   "metadata": {},
   "source": [
    "## Snitt"
   ]
  },
  {
   "cell_type": "code",
   "execution_count": 18,
   "metadata": {},
   "outputs": [
    {
     "data": {
      "text/plain": [
       "{3}"
      ]
     },
     "execution_count": 18,
     "metadata": {},
     "output_type": "execute_result"
    }
   ],
   "source": [
    "s1 & s2\n",
    "s1.intersection(s2)"
   ]
  },
  {
   "cell_type": "markdown",
   "metadata": {},
   "source": [
    "# Subsett\n",
    "Operatorene < > <= >= kan også brukes i tillegg til == selvfølgelig. \n",
    "Om man ikke vil bruke operatorene, kan metodene issuperset() issubset()"
   ]
  },
  {
   "cell_type": "code",
   "execution_count": null,
   "metadata": {},
   "outputs": [],
   "source": [
    "s1 = {1,2,3}\n",
    "s2 = {1,2,3}\n",
    "print(s1 < s2)  # Ikke OK Alle elementene i s1 må være i s2 og det må være minst ett mer i s2 (proper subset)\n",
    "print(s1 <= s2) # OK siden s1 == s2\n",
    "print(s1 == s2) # Ok selvfølgelig\n",
    "s2 = {1,2}\n",
    "print(s2.issubset(s1))"
   ]
  },
  {
   "cell_type": "markdown",
   "metadata": {},
   "source": [
    "# Differanse \n",
    "s1 - s2 vil gi deg de elementene som er i s1 men som ikke er med i s2.\n",
    "s1 + s2 vil bli som union av s1 og s2 (siden snittet uansett bare vil bli med en gang pga. unikhets-regelen)"
   ]
  },
  {
   "cell_type": "code",
   "execution_count": null,
   "metadata": {},
   "outputs": [],
   "source": [
    "s1 = {\"Hei\", \"Hå\", \"Blå\", \"Rød\"}\n",
    "s2 = {\"Blå\", \"Rød\", \"Grønn\"}\n",
    "\n",
    "s1 - s2\n",
    "s2 - s1"
   ]
  },
  {
   "cell_type": "markdown",
   "metadata": {},
   "source": [
    "# Symmetrisk differanse, eller \"XOR\", exclusive or.\n",
    "Bruker ^ operatoren eller symmetric_difference() metoden for dette. Gir deg unionen mellom to sett s1 og s2, men tar vekk de elementene som er i begge. Kan dere uttrykke dette med de operatorene vi allerede har lært?"
   ]
  },
  {
   "cell_type": "code",
   "execution_count": 38,
   "metadata": {},
   "outputs": [
    {
     "name": "stdout",
     "output_type": "stream",
     "text": [
      "{'Hei', 'Grønn', 'Hå'}\n",
      "{'Grønn', 'Hei', 'Hå', 'Rød', 'Blå'}\n",
      "{'Rød', 'Blå'}\n",
      "{'Hå', 'Grønn', 'Hei'}\n"
     ]
    },
    {
     "data": {
      "text/plain": [
       "{'Blå', 'Grønn', 'Hei', 'Hå', 'Rød'}"
      ]
     },
     "execution_count": 38,
     "metadata": {},
     "output_type": "execute_result"
    }
   ],
   "source": [
    "print(s1 ^ s2)\n",
    "s1.symmetric_difference(s2)\n",
    "sUnion = s1 | s2\n",
    "print(sUnion)\n",
    "sSnitt = s1 & s2\n",
    "print(sSnitt)\n",
    "print(sUnion - sSnitt)  # Vi tar vekk snittet fra unionen med andre ord, det vil bli det samme ;-)\n",
    "\n",
    "# Men kunne vi ikke bare ha skrevet det slik?\n",
    "s1 | s2 - s1 & s2   # NEI, siden vi har noe som kalles operator-presedens. - utføres først, deretter & og så |\n"
   ]
  }
 ],
 "metadata": {
  "interpreter": {
   "hash": "a290f780ee47b7dfaf60850b6ed37e591df7deb7c526863d2cdd3e0731d70467"
  },
  "kernelspec": {
   "display_name": "Python 3.9.7 64-bit ('base': conda)",
   "language": "python",
   "name": "python3"
  },
  "language_info": {
   "codemirror_mode": {
    "name": "ipython",
    "version": 3
   },
   "file_extension": ".py",
   "mimetype": "text/x-python",
   "name": "python",
   "nbconvert_exporter": "python",
   "pygments_lexer": "ipython3",
   "version": "3.9.7"
  },
  "orig_nbformat": 4
 },
 "nbformat": 4,
 "nbformat_minor": 2
}
