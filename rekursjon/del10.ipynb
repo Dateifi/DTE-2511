{
 "cells": [
  {
   "cell_type": "markdown",
   "metadata": {},
   "source": [
    "# Rekursjon: Funksjoner som kaller på seg selv\n",
    "\n",
    "Rekursive funksjoner ligner litt på loops, men der får fram den iterative prosessen ved å la funksjonen kalle på seg selv.\n",
    "Vi kan tenke på mange problemstillinger fra dagliglivet som kan formulerers rekursivt. F.eks. gange:\n",
    "\n",
    "```\n",
    "def gå_et_skritt:\n",
    "    hvis ikke framme:\n",
    "        gå_et_skritt()\n",
    "    ellers\n",
    "        return\n",
    "```\n",
    "\n",
    "Det enkleste for å illustrere konseptet programmeringsmessig er å begynne med et eksempel: En funksjon som skriver ut en stadig økende liste av påfølgende tall."
   ]
  },
  {
   "cell_type": "code",
   "execution_count": null,
   "metadata": {},
   "outputs": [],
   "source": [
    "biggest_number = 10\n",
    "\n",
    "def print_number(number) :\n",
    "    if (number <= biggest_number) :\n",
    "        print(number,end=\" \")   # Vi skriver ut\n",
    "        print_number(number+1)  # Vi kaller på oss selv med tallet, bare økt med 1\n",
    "    else :\n",
    "        return\n",
    "    \n",
    "print_number(1)"
   ]
  },
  {
   "cell_type": "markdown",
   "metadata": {},
   "source": [
    "Vi kan se på et annet mer matnyttig eksempel: Regne ut n! som dere kjenner fra matematikken.\n",
    "\n",
    "Dere vet også at $n! = n*(n-1)*(n-2)*....*2*1$\n",
    "\n",
    "Dette kan enkelt løses med en for loop i python"
   ]
  },
  {
   "cell_type": "code",
   "execution_count": null,
   "metadata": {},
   "outputs": [],
   "source": [
    "n = input(\"Gi meg et positivt heltall\")\n",
    "produkt = 1\n",
    "for i in range(int(n)) :\n",
    "    produkt = produkt*i\n",
    "\n",
    "print (\"Svaret er \", produkt)\n"
   ]
  },
  {
   "cell_type": "markdown",
   "metadata": {},
   "source": [
    "MEN: Dette kan også løses på en annen måte, vha. rekursjon. La oss benytte oss av at vi kan omskrive fakultet som\n",
    "\n",
    "1. $n! = n*(n-1)!$\n",
    "2. $(n-1)! = (n-1)*(n-2)!$\n",
    "3. $(n-2)! = (n-2)*(n-3)!$\n",
    "osv.\n",
    "\n",
    "Vi ser at vi har en rekursiv regel her, der beregning i øverste steg avhenger av samme beregningen i neste steg, som igjen avhenger av samme beregning i neste steg osv... Helt til man kommer ned til tallet 1 som er slutt-betingelsen. Hvordan kan vi implementere dette vha. rekursjon?"
   ]
  },
  {
   "cell_type": "code",
   "execution_count": null,
   "metadata": {},
   "outputs": [],
   "source": [
    "# Rekursjon starter med største tallet i produktet\n",
    "def factorial(n) : \n",
    "    if (n > 0) :\n",
    "        return n*factorial(n-1)\n",
    "    else :\n",
    "        return 1   \n",
    "\n",
    "factorial(10)"
   ]
  },
  {
   "cell_type": "markdown",
   "metadata": {},
   "source": [
    "Vi ser at vi MÅ ha en grein i kontrollflyten som stopper rekursjonen.\n",
    "* Kalles basis-operasjonen\n",
    "    * Grunnen til dette er at det er den enkleste varianten som kan bli spurt etter i kallet til den rekursive funksjonen\n",
    "    * Kalles også stopp-betingelsen eller \"stopping condition\"\n",
    "\n",
    "Den andre greina tar seg av **sub-problemet**, der gjerne det rekursive kallet skjer.\n",
    "\n",
    "### Oppgaver til dere: \n",
    "1. Lag en rekursiv funksjon for å regne ut $2^n$ \n",
    "2. Lag en rekursiv funksjon for å regne ut summen av alle tallene fra 1 til n."
   ]
  },
  {
   "cell_type": "markdown",
   "metadata": {},
   "source": [
    "## Case: Fibonacci tall\n",
    "Fibonacci sekvensen er en enkel rekursiv formel, eller differens-ligning, som har inspirert fagområder som arkitektur, biologi, geometri etc..\n",
    "Den kan enkelt defineres som $f_{n} = f_{n-1} + f_{n-2}$, der $f_1 = f_2 = 1$. Vi skal nå se på rekursjon for å regne ut disse tallene:\n"
   ]
  },
  {
   "cell_type": "code",
   "execution_count": null,
   "metadata": {},
   "outputs": [],
   "source": [
    "def fib(n) : \n",
    "    if (n > 2) :\n",
    "        return fib(n-1) + fib(n-2)\n",
    "    elif (n == 2 or n == 1) :\n",
    "        return 1\n",
    "\n",
    "fib(4)\n"
   ]
  },
  {
   "cell_type": "markdown",
   "metadata": {},
   "source": [
    "Selv om algoritmen blir svært elegant og lesbar er det som skjer bak kulissene nokså komplisert:\n",
    "\n",
    "<img src=\"..\\resources\\img\\fibonacci.png\">\n",
    "\n",
    "F.eks vil fib(10) kreve 177 rekursive kall, og fib(30) 2692537.... \n",
    "* Betyr at det kan være kostbart ressursmessig å bruke rekursjon (minne/CPU-tid)\n",
    "* Kan være vanskelig å debugge\n",
    "Rekursjon må derfor brukes med varsomhet.\n",
    "\n",
    "Igjen en liten oppgave til dere. Oppgave 15.2.1 i boka (den nederste varianten). Hva er output av følgende rutine (gjøres uten å implementere)\n",
    "\n",
    "```\n",
    "def m(r) :\n",
    "    return r * m(r-1) if r > 2 else r\n",
    "\n",
    "print (m(4))\n",
    "```\n"
   ]
  },
  {
   "cell_type": "markdown",
   "metadata": {},
   "source": [
    "## Case: Palindrom deteksjon\n",
    "Et palindrome er en tekst-streng som er symmetrisk, f.eks. \"agnes i senga\". Vi ønsker å lage en algoritme for å bestemme om teksten er et palindrom. Her kan vi benytte fleksibiliteten i python med å ta ut sub-strenger\n"
   ]
  },
  {
   "cell_type": "code",
   "execution_count": null,
   "metadata": {},
   "outputs": [],
   "source": [
    "def is_palindrome(streng) :\n",
    "    if (len(streng) <= 1) :\n",
    "        print(streng)\n",
    "        return True\n",
    "    elif (streng[0] != streng[len(streng) - 1]) :\n",
    "        return False\n",
    "    else:\n",
    "        is_palindrome(streng[1:len(streng)-1])\n",
    "\n",
    "print(type(is_palindrome(\"agnes i senga\")))"
   ]
  }
 ],
 "metadata": {
  "interpreter": {
   "hash": "a290f780ee47b7dfaf60850b6ed37e591df7deb7c526863d2cdd3e0731d70467"
  },
  "kernelspec": {
   "display_name": "Python 3.9.7 ('base')",
   "language": "python",
   "name": "python3"
  },
  "language_info": {
   "codemirror_mode": {
    "name": "ipython",
    "version": 3
   },
   "file_extension": ".py",
   "mimetype": "text/x-python",
   "name": "python",
   "nbconvert_exporter": "python",
   "pygments_lexer": "ipython3",
   "version": "3.9.7"
  },
  "orig_nbformat": 4
 },
 "nbformat": 4,
 "nbformat_minor": 2
}
