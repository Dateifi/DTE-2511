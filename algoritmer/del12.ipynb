{
 "cells": [
  {
   "cell_type": "markdown",
   "metadata": {},
   "source": [
    "# Søking i strenger\n",
    "\n",
    "Vi er ute etter etter en algoritme som kan finne en søkestreng `pattern` i en viss streng `text`. Først, la oss se på tilfellet \"brute force\"\n",
    "\n",
    "![brute](../resources/img/brute-force.png)\n",
    "\n",
    "Denne metoden sjekker at det alle bokstavene i mønsteret gjentar seg på et visst sted der man søker i teksten. Før vi går videre og implementerer denne algoritmen, definerer vi noen variable/konstanter:\n",
    "\n",
    "* m = len(pattern)\n",
    "* n = len(text)\n",
    "* i: nåværende indeks i text\n",
    "* k: næværende indeks i pattern"
   ]
  },
  {
   "cell_type": "code",
   "execution_count": 12,
   "metadata": {},
   "outputs": [
    {
     "data": {
      "text/plain": [
       "[]"
      ]
     },
     "execution_count": 12,
     "metadata": {},
     "output_type": "execute_result"
    }
   ],
   "source": [
    "def search(text, pattern) :\n",
    "    m = len(pattern)\n",
    "    n = len(text)\n",
    "\n",
    "    positions = []\n",
    "    if (m >= n) : raise RuntimeError(\"Pattern must be shorter than text searched\")\n",
    "    for i in range(n-m+1) :  # For every position i, check for match\n",
    "        found = True\n",
    "        for k in range(m) :\n",
    "            if pattern[k] != text[i+k] :\n",
    "                found = False\n",
    "                break\n",
    "        if (found) :\n",
    "            positions.append(i)\n",
    "\n",
    "    return positions\n",
    "\n",
    "text = \"HelgeFred\"\n",
    "pattern = \"s\"\n",
    "\n",
    "search(text, pattern)"
   ]
  },
  {
   "cell_type": "markdown",
   "metadata": {},
   "source": [
    "Så, dette var vel enkelt og greit? Well, algoritmen er ikke så effektiv, siden man kan risikere å søke etter `pattern` hele `n-m` ganger dersom match skjer helt på slutten av `text`, noe som er ganske inefektivt. Dette vil bli i størrelsesorde $O(nm)$ operasjoner. \n",
    "\n",
    "En bedre algoritme er den såkalte Boyer-Moore, se egen presentasjon for denne..."
   ]
  },
  {
   "cell_type": "code",
   "execution_count": 19,
   "metadata": {},
   "outputs": [
    {
     "data": {
      "text/plain": [
       "21"
      ]
     },
     "execution_count": 19,
     "metadata": {},
     "output_type": "execute_result"
    }
   ],
   "source": [
    "def searchBoyerMoore(text, pattern) :\n",
    "    i = 0\n",
    "    n = len(text)\n",
    "    m = len(pattern)\n",
    "    while (i < n-m+1) :\n",
    "        misMatch = False\n",
    "        k = m-1  # Start at the end of the pattern string\n",
    "        while (k >= 0) :\n",
    "            if pattern[k] != text[i+k] :\n",
    "                misMatch = True\n",
    "                break\n",
    "            k-=1\n",
    "        if misMatch :  # Need to look for next occurance backwards in pattern!\n",
    "            char = text[i+k]   \n",
    "            numSteps = 0\n",
    "            foundElsewere = False\n",
    "            while (k >= 0) :\n",
    "                if pattern[k] != char :\n",
    "                    k -= 1\n",
    "                    numSteps += 1\n",
    "                else :\n",
    "                    foundElsewere = True\n",
    "                    break\n",
    "            if not foundElsewere :\n",
    "                i = i + m   # Move the whole length of searchString\n",
    "            else :\n",
    "                i = i + numSteps  # Move that many steps necessary\n",
    "        else :\n",
    "            return i\n",
    "\n",
    "    return -1\n",
    "\n",
    "text    = \"GCTTCTGCTACCTTTTGCGCGCGCT\"\n",
    "pattern = \"CGCT\"\n",
    "\n",
    "searchBoyerMoore(text, pattern)\n"
   ]
  }
 ],
 "metadata": {
  "kernelspec": {
   "display_name": "Python 3",
   "language": "python",
   "name": "python3"
  },
  "language_info": {
   "codemirror_mode": {
    "name": "ipython",
    "version": 3
   },
   "file_extension": ".py",
   "mimetype": "text/x-python",
   "name": "python",
   "nbconvert_exporter": "python",
   "pygments_lexer": "ipython3",
   "version": "3.10.0"
  },
  "orig_nbformat": 4,
  "vscode": {
   "interpreter": {
    "hash": "b48f70ab81d2f78f348a8478a884d66c9d9246104aaf7b2223d188fa15c2b017"
   }
  }
 },
 "nbformat": 4,
 "nbformat_minor": 2
}
