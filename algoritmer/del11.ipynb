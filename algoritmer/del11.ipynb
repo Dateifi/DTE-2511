{
 "cells": [
  {
   "cell_type": "markdown",
   "metadata": {},
   "source": [
    "# Effektivisering av algoritmer\n",
    "\n",
    "Vi har sett på en rekursiv håndtering av binært søk. Kunne dette blitt gjort ved hjelp av en ren løkke for å spare \"overhead\" ved rekursjon? Svaret er ja"
   ]
  },
  {
   "cell_type": "code",
   "execution_count": 12,
   "metadata": {},
   "outputs": [
    {
     "name": "stdout",
     "output_type": "stream",
     "text": [
      "7\n"
     ]
    }
   ],
   "source": [
    "def binarySearch(liste, value):\n",
    "\n",
    "    index = -1\n",
    "    low = 0\n",
    "    high = len(liste) - 1\n",
    "    while (low <= high) :\n",
    "        mid = (low + high) // 2  # Midt posisjon, men rundet nedover.\n",
    "        if (liste[mid] == value) :\n",
    "            index = mid # Fant verdi på ny midt-posisjon.\n",
    "            break\n",
    "        if (value < liste[mid]) :\n",
    "            high = mid-1 # Jeg kan steppe meg et hakk lengre ned, siden jeg allerede har testet at verdien ikke ligger akkurat på midten\n",
    "        elif (value > liste[mid]) :\n",
    "            low = mid+1  # Samme her, jeg stepper meg ett hakker lengre opp, mid trengs ikke å tas med i søkevindu.\n",
    "    \n",
    "    return index\n",
    "\n",
    "print( binarySearch([1,2,3,6,7,10,19,34], 34) )"
   ]
  },
  {
   "cell_type": "markdown",
   "metadata": {},
   "source": [
    "Dette eksemplet viser at det er mange måter å løse en programmerings-oppgave på. En enda enklere måte å finne tallet i lista på ville være å gjøre det med et lineært søk slik som dette:"
   ]
  },
  {
   "cell_type": "code",
   "execution_count": null,
   "metadata": {},
   "outputs": [],
   "source": [
    "def linearSearch(liste, value) :\n",
    "    index = -1\n",
    "    for i in range(len(liste)) :\n",
    "        if liste[i] == value:\n",
    "            index = i\n",
    "    return index\n",
    "\n",
    "print (linearSearch([1,2,3,6,7,10,19,34], 6))"
   ]
  },
  {
   "cell_type": "markdown",
   "metadata": {},
   "source": [
    "Veldig enkel kode, som til og med støtter ikke-ordnede lister. Så hvorfor ikke bare bruke en slik algoritme?\n",
    "\n",
    "Dette skyldes antall operasjoner vi kan risikere å måtte utføre for å finne indeksen. Hvis tallet var plassert på slutten av lista, og lista var n lang, ville vi måtte utføre n sammenligninger.\n",
    "\n",
    "Et binært søk vil utføre langt færre, faktisk log(n). Dette forstås gjennom å forestille oss at lista er n = 2^m lang. Vi halverer søkevindu hver gang, som betyr at vi kun utfører m operasjoner. Tar vi log på begge sider av ligninga over får vi m = 2 log (n).\n",
    "\n",
    "En slik analyse av algoritmens tidsforbruk (som oftest måles i antall operasjoner), kan gjøres ved å se på orden. Da ser vi bort fra konstante faktorer i uttrykket, og ser bare på uttryket for n. I eksemplet over blir det $O(\\log(n))$, mens for linært søk blir det $O(n)$.\n",
    "\n",
    "La oss se på noen flere enkle eksempler"
   ]
  },
  {
   "cell_type": "code",
   "execution_count": null,
   "metadata": {},
   "outputs": [],
   "source": [
    "def linear(n) :\n",
    "    sum = 0\n",
    "    for i in range(n) :\n",
    "        sum = sum + n \n",
    "    return sum\n",
    "\n",
    "def quadratic(n) :\n",
    "    sum = 0\n",
    "    for i in range(n):\n",
    "        for j in range(n) :\n",
    "            sum = sum + i + j\n",
    "    return sum\n",
    "\n",
    "import time\n",
    "def time_it(func, n) :\n",
    "    start_time = time.time()\n",
    "    func(n)\n",
    "    end_time = time.time()\n",
    "    print(\"It took\",end_time - start_time,\"with\",n,\"iterations on\",func)\n",
    "\n",
    "time_it(linear, 100000)\n",
    "time_it(linear, 1000000)\n",
    "\n",
    "time_it(quadratic, 1000)\n",
    "time_it(quadratic, 10000)"
   ]
  },
  {
   "cell_type": "markdown",
   "metadata": {},
   "source": [
    "Naturlig nok vil altså en indre løkke som gjøres n ganger for hver iterasjon som den ytre løkken gjør n ganger være av orden $O(n^2)$. Men hva om vi terminerer den indre løkken etter 20 iterasjoner? Anta tiden det tar for en operasjon er $T(1) = c$. Da kan vi lage regnskapet $T(n) = 20\\cdot c\\cdot n = O(n)$. Siden 20c bare er en skaleringsfaktor, sider vi at vi fortsatt har $O(n)$ operasjoner. Hva med følgende kode:"
   ]
  },
  {
   "cell_type": "code",
   "execution_count": null,
   "metadata": {},
   "outputs": [],
   "source": [
    "# Tilfelle 1\n",
    "# n=100\n",
    "\n",
    "for i in range(n) :\n",
    "    k = k + 4\n",
    "\n",
    "for i in range(n) :\n",
    "    for j in range(20) :\n",
    "        k = k + i + j\n",
    "\n",
    "# Tilfelle 2\n",
    "e = 10\n",
    "liste = range(n)\n",
    "if e in liste:\n",
    "    # gjør noe\n",
    "    pass\n",
    "else:\n",
    "    for e in liste:\n",
    "        # Gjør noe annet\n",
    "        pass"
   ]
  },
  {
   "cell_type": "markdown",
   "metadata": {},
   "source": [
    "### Diskusjon...."
   ]
  },
  {
   "cell_type": "markdown",
   "metadata": {},
   "source": [
    "## Analyse av rekursive algoriter: Case Towers of Hanoi\n",
    "\n",
    "Denne var som følger\n",
    "1. Flytt de første n-1 skivene fra A til C via B\n",
    "2. Flytt skive n fra A til B\n",
    "3. Flytt de andre n-1 skivene fra C til B via A\n",
    "\n",
    "La oss anta at $T(n)$ angir tida det tar å flytte n skiver, og at T(1)=1\n",
    "\n",
    "Da kan vi nøste oss fram til orden på følgende måte via n skiver: $T(n-1) + 1 + T(n-1) = 2T(n-1) + 1$. Vi vet også at $T(n-1) = 2T(n-2) + 1$. Ergo\n",
    "$T(n) = 2(2T(n-2) + 1) + 1 = 2(2(T(n-3) + 1) + 1) + 1 = ... = 2^{n-1}T(1) + 2^{n-2} + ... + 2 + 1 = (2^n -1) = O(2^n)$. Sistnevnte overgang kan vises vha. summeformelen av de n første leddene i en geometrisk rekke, her er k=1/2...\n",
    "\n",
    "Samme type analyse kan gjøres for Fibonacci tall. \n",
    "\n",
    "## Oppgave til forsamlingen: Forbedring av ytelse på fibonacci tall\n",
    "\n",
    "Husk tilbake til rekursiv rutine for å finne fibonacci tall (NB: Her ser jeg bort fra f_0 = 0)"
   ]
  },
  {
   "cell_type": "code",
   "execution_count": 46,
   "metadata": {},
   "outputs": [
    {
     "data": {
      "text/plain": [
       "21"
      ]
     },
     "execution_count": 46,
     "metadata": {},
     "output_type": "execute_result"
    }
   ],
   "source": [
    "def fib(n) :\n",
    "    if n == 0 :\n",
    "        return 0\n",
    "    elif n == 1 :\n",
    "        return 1\n",
    "    else :\n",
    "        return fib(n-1) + fib(n-2)\n",
    "\n",
    "fib(8)"
   ]
  },
  {
   "cell_type": "markdown",
   "metadata": {},
   "source": [
    "Oppgave: Kan denne gjøres mer effektiv ved en loop?\n"
   ]
  },
  {
   "cell_type": "code",
   "execution_count": 15,
   "metadata": {},
   "outputs": [
    {
     "data": {
      "text/plain": [
       "8"
      ]
     },
     "execution_count": 15,
     "metadata": {},
     "output_type": "execute_result"
    }
   ],
   "source": [
    "def fib_loop(n) :\n",
    "    \n",
    "    if (n == 0): return 0\n",
    "    if (n == 1): return 1\n",
    "\n",
    "    i = 1\n",
    "    fn = 1\n",
    "    fn_minus_1 = 0\n",
    "    fn_minus_2 = 1\n",
    "    while i <= n :\n",
    "        fn = fn_minus_1 + fn_minus_2\n",
    "        fn_minus_2 = fn_minus_1\n",
    "        fn_minus_1 = fn\n",
    "        i+=1\n",
    "\n",
    "    return fn\n",
    "\n",
    "fib_loop(6)"
   ]
  },
  {
   "cell_type": "markdown",
   "metadata": {},
   "source": [
    "Og hva er orden av denne? Ser da vitterlig ut som $O(n)$ :-)\n",
    "\n",
    "## Selection sort\n",
    "\n",
    "For å se på hvordan denne fungerer, se boka under kapittel 16.4.2. Algoritmen er laget på den måten at for hvert element i lista, så sammenlignes alle elementene framover i lista. Man ser etter det minste elementet blant de elementene som gjenstår i lista, og bytter dette elementet med dette. Om man ikke finner noe, så hopper man bare videre til neste."
   ]
  },
  {
   "cell_type": "code",
   "execution_count": null,
   "metadata": {},
   "outputs": [],
   "source": [
    "def selectionSort(liste) :\n",
    "    for i in range(len(liste)-1) :\n",
    "        element = liste[i]\n",
    "        minimumValue = min(liste[i+1:])\n",
    "        minimumIndex = liste[i+1:].index(minimumValue) + i+1\n",
    "        minimumElement = liste[minimumIndex]\n",
    "        if minimumElement < element :\n",
    "            liste[i] = minimumElement\n",
    "            liste[minimumIndex] = element\n",
    "\n",
    "liste = [-2, 4, 5, -1, 3, 5]\n",
    "selectionSort(liste)\n",
    "print(liste)"
   ]
  },
  {
   "cell_type": "markdown",
   "metadata": {},
   "source": [
    "Hva er orden her? Lista er n lang. For hvert element i lista gjør man et søk som potensielt er n-1 langt. Antall sammenligninger kan røfli summeres til noe slikt som\n",
    "$ (n-1) + (n-2) + (n-3) + ... + 1$. Vi har en summeformel for dette. Dette er $\\frac{n(n+1)}{2} - n = n^2/2 - n/2$. (-n på slutten der fordi vi startet i (n-1)). Altså $O(n^2)$\n",
    "\n",
    "# Case study: Finne prim-tall. \n",
    "Motivasjon: Det finnes en $150.000 pris for den som greier å finne et primtall som inneholder minst 100.000.000 siffer. (https://www.eff.org/awards/coop)\n",
    "Hvordan kan vi finne en raskest mulig algoritme for dette? \n",
    "* Enkleste versjon: Gå gjennom alle tall opp til n og sjekk at de ikke er delelig med alle tall som er under n. Vi ser at dette er en $O(n^2)$ algoritme. Ikke særlig effektiv.\n",
    "* Andre versjon: Vi sjekker bare delelighet med odde-tall, siden alle par-tall er delelig med 2. Dessverre fortsatt $O(n^2)$.\n",
    "* Tredje versjon: Det kan vises at vi kun trenger å sjekke delelighet med tallene under $\\sqrt{n}$. Dette minker kompleksiteten til $O(n\\sqrt{n})$\n",
    "\n"
   ]
  },
  {
   "cell_type": "code",
   "execution_count": null,
   "metadata": {},
   "outputs": [],
   "source": [
    "from math import sqrt\n",
    "def findPrimes(n) :\n",
    "    primtall = []\n",
    "\n",
    "    candidate = 2\n",
    "    \n",
    "    while (candidate < n) :\n",
    "\n",
    "        isPrime = True    \n",
    "        root = int(sqrt(candidate)) + 1  # Det at vi plusser på en er en avrunding oppover.\n",
    "\n",
    "        for divisor in range(2, root):  # Sjekker i forhold til divisor på alle tall under rota av kandidaten\n",
    "            if candidate % divisor == 0 :\n",
    "                isPrime = False\n",
    "                break\n",
    "        if (isPrime) :\n",
    "            primtall.append(candidate)\n",
    "\n",
    "        candidate += 1\n",
    "    \n",
    "    return primtall\n",
    "\n",
    "findPrimes(50)"
   ]
  },
  {
   "cell_type": "markdown",
   "metadata": {},
   "source": [
    "Algoritmen er ikke så effektiv, siden vi må kvadratrota må regnes ut for hver kandidat. Legg merke til at ``int(sqrt(candidate))`` økes med 1 kun mellom kandidat-tall som er kvadratisk. Ellers er det samme heltallsverdi hele tiden. Dersom vi gjør det slik at denne økes kun når ``root*root >= candidate`` så sparer vi mye kvadratrot beregning.\n",
    "\n",
    "I tillegg er det slik at vi egentlig kun trenger å sjekke på primtall når det gjelder mulige divisorer. Dette siden andre tall er sammensatt (er multiplisert sammen) av andre primtall som er mindre, og derfor allerede blir sjekket når man sjekker selve primtallene.\n",
    "\n",
    "F.eks. vi trenger ikke sjekke om 13 er delelig med 6, siden vi allerede har sjekket om det er delelig med 3 og 2.\n",
    "\n",
    "Ny forbedret algoritme ser vi under\n"
   ]
  },
  {
   "cell_type": "code",
   "execution_count": 8,
   "metadata": {},
   "outputs": [
    {
     "data": {
      "text/plain": [
       "[2, 3, 5, 7, 11, 13, 17, 19, 23, 29, 31, 37, 41, 43, 47]"
      ]
     },
     "execution_count": 8,
     "metadata": {},
     "output_type": "execute_result"
    }
   ],
   "source": [
    "def findPrimes(n) :\n",
    "    primtall = []\n",
    "\n",
    "    candidate = 2\n",
    "    root = 1\n",
    "    while (candidate < n) :\n",
    "\n",
    "        isPrime = True    \n",
    "        if (candidate > root*root) :\n",
    "            root += 1\n",
    "\n",
    "        for divisor in primtall :\n",
    "            if divisor <= root and candidate % divisor == 0:\n",
    "                isPrime = False\n",
    "                break   # Vi ser ikke på mulige divisorer større en rota\n",
    "        if (isPrime) :\n",
    "            primtall.append(candidate)\n",
    "\n",
    "        candidate += 1\n",
    "    \n",
    "    return primtall\n",
    "\n",
    "findPrimes(50)"
   ]
  },
  {
   "cell_type": "markdown",
   "metadata": {},
   "source": [
    "Hvilken orden har denne rutina nå når vi bare sjekker mot tidligere detekterte primtall? Vel, da må vi anslå hvor mange primtall som er under et visst tall n. Det er mulig å vise via tallteori at dette vil være i størrelsesorden $n/log(n)$\n",
    "\n",
    "Dette fører til at siden vi nå bare sjekker divisorer som bare er primtall + at vi begrenser oss oppad til $\\sqrt{n}$, så vil det totalt sett være $O(n\\sqrt{n}/log(n))$"
   ]
  }
 ],
 "metadata": {
  "kernelspec": {
   "display_name": "Python 3",
   "language": "python",
   "name": "python3"
  },
  "language_info": {
   "codemirror_mode": {
    "name": "ipython",
    "version": 3
   },
   "file_extension": ".py",
   "mimetype": "text/x-python",
   "name": "python",
   "nbconvert_exporter": "python",
   "pygments_lexer": "ipython3",
   "version": "3.10.0"
  },
  "orig_nbformat": 4,
  "vscode": {
   "interpreter": {
    "hash": "b48f70ab81d2f78f348a8478a884d66c9d9246104aaf7b2223d188fa15c2b017"
   }
  }
 },
 "nbformat": 4,
 "nbformat_minor": 2
}
