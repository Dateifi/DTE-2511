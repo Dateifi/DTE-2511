{
 "cells": [
  {
   "cell_type": "code",
   "execution_count": null,
   "metadata": {},
   "outputs": [],
   "source": [
    "result_list = []\n",
    "input = \"Volvo\"\n",
    "with open(\"file.txt\", 'rw') as f:\n",
    "    for line in f:\n",
    "        line = line.strip().split()\n",
    "        if input.lower() == line[0].lower():\n",
    "            result_list.append(line)\n",
    "\n",
    "if result_list:\n",
    "    print(result_list)"
   ]
  },
  {
   "cell_type": "code",
   "execution_count": null,
   "metadata": {},
   "outputs": [],
   "source": [
    "import this"
   ]
  },
  {
   "cell_type": "code",
   "execution_count": null,
   "metadata": {},
   "outputs": [],
   "source": [
    "class MyException(RuntimeError):\n",
    "    def __init__(self, message):\n",
    "        self.message = message\n",
    "\n",
    "if not a + b >= c:\n",
    "    raise MyException(\"Runtime Error\")"
   ]
  },
  {
   "cell_type": "code",
   "execution_count": 8,
   "metadata": {},
   "outputs": [
    {
     "name": "stdout",
     "output_type": "stream",
     "text": [
      "4 3 2 1\n"
     ]
    }
   ],
   "source": [
    "\n",
    "number = \"1234\"\n",
    "number = reversed(number)\n",
    "print(\" \".join(number))\n"
   ]
  }
 ],
 "metadata": {
  "kernelspec": {
   "display_name": "Python 3",
   "language": "python",
   "name": "python3"
  },
  "language_info": {
   "codemirror_mode": {
    "name": "ipython",
    "version": 3
   },
   "file_extension": ".py",
   "mimetype": "text/x-python",
   "name": "python",
   "nbconvert_exporter": "python",
   "pygments_lexer": "ipython3",
   "version": "3.10.0"
  },
  "orig_nbformat": 4,
  "vscode": {
   "interpreter": {
    "hash": "b48f70ab81d2f78f348a8478a884d66c9d9246104aaf7b2223d188fa15c2b017"
   }
  }
 },
 "nbformat": 4,
 "nbformat_minor": 2
}
