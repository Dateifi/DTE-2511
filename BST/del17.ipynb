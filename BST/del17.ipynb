{
 "cells": [
  {
   "cell_type": "markdown",
   "metadata": {},
   "source": [
    "# Binære søke-tre\n",
    "\n",
    "Et binært søke-tre består i likhet med en linket liste av noder som er koblet til andre noder. I motsetning til det binære treet \"Heap\" som vi har vært innom tidligere, vil ALLE nodene i venstre sub-tre være mindre eller lik parent/foreldre-node, og ALLE nodene i høyre sub-tre være større. I en heap trengte ikke dette være tilfelle, der var det nok at denne større/mindre betingelse var gyldig kun lokalt.\n",
    "\n",
    "Dette gjør at man må være mer nøye når man skal sette inn en ny node i et binært søketre. Traversering av strukturen blir derfor viktig å implementere på en riktig måte. \n",
    "\n",
    "En annen viktig forskjell fra Heap er at vi nå gjør lagring av elementene i selve noden (slik for linket liste) istedenfor at strukturen støttes/backes av en liste."
   ]
  },
  {
   "cell_type": "code",
   "execution_count": 12,
   "metadata": {},
   "outputs": [
    {
     "name": "stdout",
     "output_type": "stream",
     "text": [
      "[15, 20, 25]\n",
      "8\n"
     ]
    }
   ],
   "source": [
    "class TreeNode :\n",
    "    def __init__(self, object) :\n",
    "        self.element = object\n",
    "        self.left = None\n",
    "        self.right = None\n",
    "\n",
    "class BinarySearchTree :\n",
    "    def __init__(self) :\n",
    "        self.__root = None\n",
    "        self.__length = 0\n",
    "\n",
    "    def search(self, object) :\n",
    "        current = self.__root\n",
    "        path = []\n",
    "        while current != None :\n",
    "            if object < current.element :\n",
    "                path.append(current.element)\n",
    "                current = current.left\n",
    "            elif object > current.element :\n",
    "                path.append(current.element)\n",
    "                current = current.right\n",
    "            else :\n",
    "                path.append(current.element)\n",
    "                return path  \n",
    "        \n",
    "        return False\n",
    "            \n",
    "\n",
    "    def insert(self, object) :\n",
    "        node = TreeNode(object)\n",
    "        if self.__root == None :\n",
    "            self.__root = node\n",
    "            self.__length += 1\n",
    "            return \n",
    "\n",
    "        current = self.__root\n",
    "        while current != None :\n",
    "            parent = current\n",
    "            left = False\n",
    "            if object < current.element :\n",
    "                current = current.left\n",
    "                left = True\n",
    "            elif object > current.element :\n",
    "                current = current.right\n",
    "            else :\n",
    "                return False  # We don't accept insertion of duplicate elements in this version\n",
    "\n",
    "        if left :\n",
    "            parent.left = node\n",
    "        else :\n",
    "            parent.right = node\n",
    "        \n",
    "    def findMin(self) :\n",
    "        if self.__root == None :\n",
    "            return None\n",
    "        else :\n",
    "            current = self.__root\n",
    "            while current.left != None :\n",
    "                current = current.left\n",
    "            return current.element\n",
    "        \n",
    "bst = BinarySearchTree()\n",
    "\n",
    "bst.insert(15)\n",
    "bst.insert(10)\n",
    "bst.insert(20)\n",
    "bst.insert(8)\n",
    "bst.insert(12)\n",
    "bst.insert(17)\n",
    "bst.insert(25)\n",
    "\n",
    "print(bst.search(25))\n",
    "print(bst.findMin())\n"
   ]
  }
 ],
 "metadata": {
  "interpreter": {
   "hash": "a290f780ee47b7dfaf60850b6ed37e591df7deb7c526863d2cdd3e0731d70467"
  },
  "kernelspec": {
   "display_name": "Python 3.9.7 ('base')",
   "language": "python",
   "name": "python3"
  },
  "language_info": {
   "codemirror_mode": {
    "name": "ipython",
    "version": 3
   },
   "file_extension": ".py",
   "mimetype": "text/x-python",
   "name": "python",
   "nbconvert_exporter": "python",
   "pygments_lexer": "ipython3",
   "version": "3.9.7"
  },
  "orig_nbformat": 4
 },
 "nbformat": 4,
 "nbformat_minor": 2
}
