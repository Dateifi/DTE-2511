{
 "cells": [
  {
   "cell_type": "markdown",
   "metadata": {},
   "source": [
    "Koden under er en versjon som kjører synkront."
   ]
  },
  {
   "cell_type": "code",
   "execution_count": null,
   "metadata": {},
   "outputs": [],
   "source": [
    "import time\n",
    "\n",
    "def make_meal(delay, what):\n",
    "    print(what, end=\": \")\n",
    "    time.sleep(delay)\n",
    "    print('Ferdig!')\n",
    "\n",
    "def main():\n",
    "    print(f\"Startet {time.strftime('%X')}\")\n",
    "    \n",
    "    make_meal(3, 'Lage kaffe')\n",
    "    make_meal(5, 'Koke egg')\n",
    "    make_meal(3, 'Steike bacon')\n",
    "    make_meal(5, 'Varme bønner i tomatsaus')\n",
    "    make_meal(3, 'Riste brød')\n",
    "    make_meal(1, 'Sette på bordet')\n",
    "\n",
    "    print('Frokosten er ferdig!')\n",
    "    print(f\"Ferdig ved {time.strftime('%X')}\")\n",
    "\n",
    "main()"
   ]
  },
  {
   "cell_type": "markdown",
   "metadata": {},
   "source": [
    "Og nå benytter vi oss av asyncio for å asynkront kjøre jobbene i parallell"
   ]
  },
  {
   "cell_type": "code",
   "execution_count": null,
   "metadata": {},
   "outputs": [],
   "source": [
    "import asyncio\n",
    "import time\n",
    "\n",
    "async def make_meal(delay, what):\n",
    "    await asyncio.sleep(delay)\n",
    "    print(what, \": Ferdig!\")\n",
    "\n",
    "async def main() :\n",
    "\n",
    "    print(f\"Startet {time.strftime('%X')}\")\n",
    "    await asyncio.gather(make_meal(3, 'Lage kaffe'),\n",
    "        make_meal(5, 'Koke egg'),\n",
    "        make_meal(3, 'Steike bacon'),\n",
    "        make_meal(5, 'Varme bønner i tomatsaus'),\n",
    "        make_meal(3, 'Riste brød'),\n",
    "        make_meal(1, 'Sette på bordet'))\n",
    "    print(f\"Ferdig ved {time.strftime('%X')}\")\n",
    "\n",
    "await main()\n"
   ]
  },
  {
   "cell_type": "markdown",
   "metadata": {},
   "source": [
    "Skal man utveksle informasjon på tvers av jobber er det naturlig å gjøre dette via en kø. \n",
    "Eksempel på producer/consumer applikasjon som samhandler via en slik kø: En restaurant med litt spesielle regler. \n",
    "1. 3 kelnere tar kun ordre på hver sin type mat.\n",
    "2. Restauranten stenger når kokken har greid å tømme ordre-boka."
   ]
  },
  {
   "cell_type": "code",
   "execution_count": null,
   "metadata": {},
   "outputs": [],
   "source": [
    "import asyncio\n",
    "import random\n",
    "import time\n",
    "\n",
    "class Order :\n",
    "    def __init__(self, meal, how_long) :\n",
    "        self.__meal = meal\n",
    "        self.__how_long = how_long\n",
    "    \n",
    "    @property\n",
    "    def meal(self) :\n",
    "        return self.__meal\n",
    "    \n",
    "    @property\n",
    "    def how_long(self) :\n",
    "        return self.__how_long\n",
    "      \n",
    "\n",
    "async def waiter(meal, how_long, queue) :\n",
    "    # Place order in the queue\n",
    "    while True :\n",
    "        print(\"Legger matrett av typen\", meal, \"inn til bestilling\")\n",
    "        await queue.put(Order(meal, how_long))  # Will block if queue is full TEST: put_nowait()\n",
    "        await asyncio.sleep(random.uniform(0,12))\n",
    "\n",
    "async def cheaf(queue) :\n",
    "    while not queue.empty() :\n",
    "        order = await queue.get()\n",
    "        print(\"Lager matrett av type\", order.meal, \"ved å bruke\", order.how_long, \"sekunder. Køen er nå\", queue.qsize(), \"stor\")\n",
    "        await asyncio.sleep(order.how_long)\n",
    "        print(\"Ferdig med å lage\", order.meal)\n",
    "        queue.task_done()\n",
    "\n",
    "    print(\"**** Vi stenger kjøkkenet! *****\")\n",
    "\n",
    "\n",
    "\n",
    "async def main() :\n",
    "    queue = asyncio.Queue(10)\n",
    "\n",
    "    kelner1 = asyncio.create_task(waiter(\"Kjøttsuppe\",1, queue))\n",
    "    kelner2 = asyncio.create_task(waiter(\"Biff\",2, queue))\n",
    "    kelner3 = asyncio.create_task(waiter(\"Grøt\",3, queue))\n",
    "  \n",
    "    consumer = asyncio.create_task(cheaf(queue))\n",
    "    producers = [kelner1, kelner2, kelner3]\n",
    "    # asyncio.run()\n",
    "\n",
    "    await queue.join()\n",
    "    await asyncio.gather(consumer)\n",
    "    for kelner in producers :\n",
    "        kelner.cancel()\n",
    "\n",
    "    print('====')\n",
    "\n",
    "await main()  "
   ]
  },
  {
   "cell_type": "markdown",
   "metadata": {},
   "source": [
    "Et eksempel på hvordan man kan jobbe med IO i dette biblioteket (hentet fra https://realpython.com/python-concurrency/)."
   ]
  },
  {
   "cell_type": "code",
   "execution_count": null,
   "metadata": {},
   "outputs": [],
   "source": [
    "import asyncio\n",
    "import time\n",
    "import aiohttp\n",
    "\n",
    "async def download_site(session, url):\n",
    "    async with session.get(url) as response: # Bruk av context-manager \n",
    "        print(\"Read {0} from {1}\".format(response.content_length, url))\n",
    "\n",
    "\n",
    "async def download_all_sites(sites):\n",
    "    async with aiohttp.ClientSession() as session:\n",
    "        tasks = []\n",
    "        for url in sites:\n",
    "            task = asyncio.create_task(download_site(session, url))\n",
    "            tasks.append(task)\n",
    "        await asyncio.gather(*tasks, return_exceptions=True)\n",
    "\n",
    "\n",
    "if __name__ == \"__main__\":\n",
    "    sites = [\n",
    "        \"https://www.jython.org\",\n",
    "        \"http://olympus.realpython.org/dice\",\n",
    "    ] * 80\n",
    "    start_time = time.time()\n",
    "    # asyncio.run(download_all_sites(sites))\n",
    "    await download_all_sites(sites)\n",
    "    duration = time.time() - start_time\n",
    "    print(f\"Downloaded {len(sites)} sites in {duration} seconds\")"
   ]
  },
  {
   "cell_type": "code",
   "execution_count": null,
   "metadata": {},
   "outputs": [],
   "source": [
    "import time\n",
    "import requests\n",
    "\n",
    "def download_site(session, url):\n",
    "    with session.get(url) as response:\n",
    "        print(\"Read {0} from {1}\".format(len(response.content), url))\n",
    "\n",
    "def download_all_sites(sites):\n",
    "    with requests.Session() as session:\n",
    "        for url in sites:\n",
    "            download_site(session, url)\n",
    "\n",
    "if __name__ == \"__main__\":\n",
    "    sites = [\n",
    "        \"https://www.jython.org\",\n",
    "        \"http://olympus.realpython.org/dice\",\n",
    "    ] * 80\n",
    "    start_time = time.time()\n",
    "    # asyncio.run(download_all_sites(sites))\n",
    "    download_all_sites(sites)\n",
    "    duration = time.time() - start_time\n",
    "    print(f\"Downloaded {len(sites)} sites in {duration} seconds\")"
   ]
  }
 ],
 "metadata": {
  "interpreter": {
   "hash": "a290f780ee47b7dfaf60850b6ed37e591df7deb7c526863d2cdd3e0731d70467"
  },
  "kernelspec": {
   "display_name": "Python 3.9.7 ('base')",
   "language": "python",
   "name": "python3"
  },
  "language_info": {
   "codemirror_mode": {
    "name": "ipython",
    "version": 3
   },
   "file_extension": ".py",
   "mimetype": "text/x-python",
   "name": "python",
   "nbconvert_exporter": "python",
   "pygments_lexer": "ipython3",
   "version": "3.9.7"
  },
  "orig_nbformat": 4
 },
 "nbformat": 4,
 "nbformat_minor": 2
}
