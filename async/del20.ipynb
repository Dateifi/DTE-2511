{
 "cells": [
  {
   "cell_type": "markdown",
   "metadata": {},
   "source": [
    "Koden under er en versjon som kjører synkront"
   ]
  },
  {
   "cell_type": "code",
   "execution_count": null,
   "metadata": {},
   "outputs": [],
   "source": [
    "\n",
    "def make_food(delay, what) :\n",
    "    time.sleep(delay)\n",
    "    print(what, \": ferdig\")\n",
    "\n",
    "def main():\n",
    "    print(\"Startet: \", time.strftime('%X'))\n",
    "    make_food(3, \"Lage kaffe\"),\n",
    "    make_food(5, \"Lage egg\"),\n",
    "    make_food(3, \"Steike bacon\"),\n",
    "    make_food(5, \"Varme bønner i tomatsaus\"),\n",
    "    make_food(3, \"Riste brød\"),\n",
    "    make_food(1, \"Sette på bordet\")\n",
    "    print(\"Ferdig: \", time.strftime('%X'))\n",
    "\n",
    "main()"
   ]
  },
  {
   "cell_type": "markdown",
   "metadata": {},
   "source": [
    "Og nå benytter vi oss av asyncio for å asynkront kjøre jobbene i parallell"
   ]
  },
  {
   "cell_type": "code",
   "execution_count": null,
   "metadata": {},
   "outputs": [],
   "source": [
    "import asyncio\n",
    "\n",
    "async def make_food(delay, what) :\n",
    "    await asyncio.sleep(delay)\n",
    "    print(what, \": ferdig\")\n",
    "\n",
    "async def main():\n",
    "    print(\"Startet: \", time.strftime('%X'))\n",
    "    \n",
    "    await asyncio.gather(\n",
    "        make_food(3, \"Lage kaffe\"),\n",
    "        make_food(5, \"Lage egg\"),\n",
    "        make_food(3, \"Steike bacon\"),\n",
    "        make_food(5, \"Varme bønner i tomatsaus\"),\n",
    "        make_food(3, \"Riste brød\"),\n",
    "        make_food(1, \"Sette på bordet\")\n",
    "        )\n",
    "    print(\"Ferdig: \", time.strftime('%X'))\n",
    "\n",
    "# asyncio.run(main())\n",
    "\n",
    "await main()"
   ]
  },
  {
   "cell_type": "markdown",
   "metadata": {},
   "source": [
    "Skal man utveksle informasjon på tvers av jobber er det naturlig å gjøre dette via en kø. Under er et eksempel på producer/consumer applikasjon som samhandler via en slik kø. PS: Restauranten stenger når kokken har tømt ordre-boka."
   ]
  },
  {
   "cell_type": "code",
   "execution_count": null,
   "metadata": {},
   "outputs": [],
   "source": [
    "import random\n",
    "\n",
    "class Order : \n",
    "    def __init__(self, meal, how_long) :\n",
    "        self.__meal = meal\n",
    "        self.__how_long = how_long\n",
    "\n",
    "    @property\n",
    "    def meal(self) :\n",
    "        return self.__meal\n",
    "\n",
    "    @property\n",
    "    def how_long(self):\n",
    "        return self.__how_long\n",
    "\n",
    "async def waiter(meal, how_long, queue) :\n",
    "    while True :\n",
    "        print(\"Legger matrett av typen\", meal, \"inn til bestilling\")\n",
    "        await queue.put(Order(meal, how_long))\n",
    "        await asyncio.sleep(random.uniform(0,12))\n",
    "\n",
    "async def chef(queue) :\n",
    "    while not queue.empty() :\n",
    "        order = await queue.get()\n",
    "        print(\"Lager matrett av typen: \", order.meal, \"ved å bruke\", order.how_long, \"sekunder. Køen er nå\", queue.qsize(), \"stor\")\n",
    "        await asyncio.sleep(order.how_long)\n",
    "        queue.task_done()\n",
    "\n",
    "    print(\"*** Kjøkkenet er stengt! ***\")\n",
    "\n",
    "async def main() :\n",
    "    queue = asyncio.Queue(10)\n",
    "\n",
    "    kelner1 = asyncio.create_task(waiter(\"Kjøttsuppe\", 1, queue))\n",
    "    kelner2 = asyncio.create_task(waiter(\"Biff\", 2, queue))\n",
    "    kelner3 = asyncio.create_task(waiter(\"Grøt\", 3, queue))\n",
    "    producers = [kelner1, kelner2, kelner3]\n",
    "\n",
    "    consumer = asyncio.create_task(chef(queue))\n",
    "\n",
    "    await asyncio.gather(consumer)\n",
    "    await queue.join()\n",
    "\n",
    "    for kelner in producers :\n",
    "       kelner.cancel()\n",
    "\n",
    "    print(\"=====\")\n",
    "\n",
    "await main()\n",
    "\n",
    "    "
   ]
  },
  {
   "cell_type": "markdown",
   "metadata": {},
   "source": [
    "Vi kan også se på et eksempel i en mer reel kontekst: Jobbing med I/O gjennom http. Under er et eksempel hentet fra realpython.com:"
   ]
  },
  {
   "cell_type": "code",
   "execution_count": null,
   "metadata": {},
   "outputs": [],
   "source": [
    "import asyncio\n",
    "import time\n",
    "import aiohttp\n",
    "\n",
    "\n",
    "async def download_site(session, url):\n",
    "    async with session.get(url) as response:\n",
    "        print(\"Read {0} from {1}\".format(response.content_length, url))\n",
    "\n",
    "\n",
    "async def download_all_sites(sites):\n",
    "    async with aiohttp.ClientSession() as session:\n",
    "        tasks = []\n",
    "        for url in sites:\n",
    "            task = asyncio.create_task(download_site(session, url))\n",
    "            tasks.append(task)\n",
    "        await asyncio.gather(*tasks, return_exceptions=True)\n",
    "\n",
    "sites = [\n",
    "    \"https://www.jython.org\",\n",
    "    \"http://olympus.realpython.org/dice\",\n",
    "] * 80\n",
    "start_time = time.time()\n",
    "await download_all_sites(sites)\n",
    "duration = time.time() - start_time\n",
    "print(f\"Downloaded {len(sites)} sites in {duration} seconds\")"
   ]
  }
 ],
 "metadata": {
  "interpreter": {
   "hash": "a290f780ee47b7dfaf60850b6ed37e591df7deb7c526863d2cdd3e0731d70467"
  },
  "kernelspec": {
   "display_name": "Python 3.9.7 ('base')",
   "language": "python",
   "name": "python3"
  },
  "language_info": {
   "codemirror_mode": {
    "name": "ipython",
    "version": 3
   },
   "file_extension": ".py",
   "mimetype": "text/x-python",
   "name": "python",
   "nbconvert_exporter": "python",
   "pygments_lexer": "ipython3",
   "version": "3.9.7"
  },
  "orig_nbformat": 4
 },
 "nbformat": 4,
 "nbformat_minor": 2
}
