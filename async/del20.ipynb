{
 "cells": [
  {
   "cell_type": "markdown",
   "metadata": {},
   "source": [
    "Koden under er en versjon som kjører synkront."
   ]
  },
  {
   "cell_type": "code",
   "execution_count": null,
   "metadata": {},
   "outputs": [],
   "source": [
    "import time\n",
    "\n",
    "def make_meal(delay, what):\n",
    "    print(what, end=\": \")\n",
    "    time.sleep(delay)\n",
    "    print('Ferdig!')\n",
    "\n",
    "def main():\n",
    "    print(f\"Startet {time.strftime('%X')}\")\n",
    "    \n",
    "    make_meal(3, 'Lage kaffe')\n",
    "    make_meal(5, 'Koke egg')\n",
    "    make_meal(3, 'Steike bacon')\n",
    "    make_meal(5, 'Varme bønner i tomatsaus')\n",
    "    make_meal(3, 'Riste brød')\n",
    "    make_meal(1, 'Sette på bordet')\n",
    "\n",
    "    print('Frokosten er ferdig!')\n",
    "    print(f\"Ferdig ved {time.strftime('%X')}\")\n",
    "\n",
    "main()"
   ]
  },
  {
   "cell_type": "markdown",
   "metadata": {},
   "source": [
    "Og nå benytter vi oss av asyncio for å kunne jobbe asynkront med jobber som kan gjøres i parallell"
   ]
  },
  {
   "cell_type": "code",
   "execution_count": null,
   "metadata": {},
   "outputs": [],
   "source": [
    "import asyncio\n",
    "import time\n",
    "\n",
    "async def make_meal(delay, what):\n",
    "    await asyncio.sleep(delay)\n",
    "    print(what, \": Ferdig!\")\n",
    "\n",
    "async def main() :\n",
    "\n",
    "    print(f\"Startet {time.strftime('%X')}\")\n",
    "    await asyncio.gather(make_meal(3, 'Lage kaffe'),\n",
    "        make_meal(5, 'Koke egg'),\n",
    "        make_meal(3, 'Steike bacon'),\n",
    "        make_meal(5, 'Varme bønner i tomatsaus'),\n",
    "        make_meal(3, 'Riste brød'),\n",
    "        make_meal(1, 'Sette på bordet'))\n",
    "    print(f\"Ferdig ved {time.strftime('%X')}\")\n",
    "\n",
    "await main()\n"
   ]
  },
  {
   "cell_type": "markdown",
   "metadata": {},
   "source": [
    "Skal man utveksle informasjon på tvers av jobber er det naturlig å gjøre dette via en kø. Det finnes tråd-sikre måter å gjøre dette på."
   ]
  },
  {
   "cell_type": "code",
   "execution_count": 33,
   "metadata": {},
   "outputs": [
    {
     "name": "stdout",
     "output_type": "stream",
     "text": [
      "worker-0 has slept for 0.17 seconds\n",
      "worker-2 has slept for 0.67 seconds\n",
      "worker-1 has slept for 0.84 seconds\n",
      "worker-1 has slept for 0.21 seconds\n",
      "worker-0 has slept for 0.90 seconds\n",
      "worker-2 has slept for 0.52 seconds\n",
      "worker-1 has slept for 0.16 seconds\n",
      "worker-0 has slept for 0.46 seconds\n",
      "worker-1 has slept for 0.39 seconds\n",
      "worker-2 has slept for 0.59 seconds\n",
      "worker-2 has slept for 0.34 seconds\n",
      "worker-2 has slept for 0.13 seconds\n",
      "worker-1 has slept for 0.77 seconds\n",
      "worker-0 has slept for 0.94 seconds\n",
      "worker-1 has slept for 0.09 seconds\n",
      "worker-2 has slept for 0.39 seconds\n",
      "worker-1 has slept for 0.47 seconds\n",
      "worker-2 has slept for 0.26 seconds\n",
      "worker-0 has slept for 0.99 seconds\n",
      "worker-1 has slept for 0.67 seconds\n",
      "====\n",
      "3 workers slept in parallel for 3.64 seconds\n",
      "total expected sleep time: 9.96 seconds\n"
     ]
    }
   ],
   "source": [
    "import asyncio\n",
    "import random\n",
    "import time\n",
    "\n",
    "\n",
    "async def worker(name, queue):\n",
    "    while True:\n",
    "        # Get a \"work item\" out of the queue.\n",
    "        sleep_for = await queue.get()\n",
    "\n",
    "        # Sleep for the \"sleep_for\" seconds.\n",
    "        await asyncio.sleep(sleep_for)\n",
    "\n",
    "        # Notify the queue that the \"work item\" has been processed.\n",
    "        queue.task_done()\n",
    "\n",
    "        print(f'{name} has slept for {sleep_for:.2f} seconds')\n",
    "\n",
    "\n",
    "async def main():\n",
    "    # Create a queue that we will use to store our \"workload\".\n",
    "    queue = asyncio.Queue()\n",
    "\n",
    "    # Generate random timings and put them into the queue.\n",
    "    total_sleep_time = 0\n",
    "    for _ in range(20):\n",
    "        sleep_for = random.uniform(0.05, 1.0)\n",
    "        total_sleep_time += sleep_for\n",
    "        queue.put_nowait(sleep_for)\n",
    "\n",
    "    # Create three worker tasks to process the queue concurrently.\n",
    "    tasks = []\n",
    "    for i in range(3):\n",
    "        task = asyncio.create_task(worker(f'worker-{i}', queue))\n",
    "        tasks.append(task)\n",
    "\n",
    "    # Wait until the queue is fully processed.\n",
    "    started_at = time.monotonic()\n",
    "    await queue.join()\n",
    "    total_slept_for = time.monotonic() - started_at\n",
    "\n",
    "    # Cancel our worker tasks.\n",
    "    for task in tasks:\n",
    "        task.cancel()\n",
    "    # Wait until all worker tasks are cancelled.\n",
    "    await asyncio.gather(*tasks, return_exceptions=True)\n",
    "\n",
    "    print('====')\n",
    "    print(f'3 workers slept in parallel for {total_slept_for:.2f} seconds')\n",
    "    print(f'total expected sleep time: {total_sleep_time:.2f} seconds')\n",
    "\n",
    "\n",
    "await main()"
   ]
  }
 ],
 "metadata": {
  "interpreter": {
   "hash": "a290f780ee47b7dfaf60850b6ed37e591df7deb7c526863d2cdd3e0731d70467"
  },
  "kernelspec": {
   "display_name": "Python 3.9.7 ('base')",
   "language": "python",
   "name": "python3"
  },
  "language_info": {
   "codemirror_mode": {
    "name": "ipython",
    "version": 3
   },
   "file_extension": ".py",
   "mimetype": "text/x-python",
   "name": "python",
   "nbconvert_exporter": "python",
   "pygments_lexer": "ipython3",
   "version": "3.9.7"
  },
  "orig_nbformat": 4
 },
 "nbformat": 4,
 "nbformat_minor": 2
}
